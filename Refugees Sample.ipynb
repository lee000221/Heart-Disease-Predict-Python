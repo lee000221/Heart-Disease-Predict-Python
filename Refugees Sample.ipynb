{
  "cells": [
    {
      "cell_type": "markdown",
      "metadata": {
        "id": "view-in-github",
        "colab_type": "text"
      },
      "source": [
        "<a href=\"https://colab.research.google.com/github/lee000221/introdatascience/blob/main/Refugees%20Sample.ipynb\" target=\"_parent\"><img src=\"https://colab.research.google.com/assets/colab-badge.svg\" alt=\"Open In Colab\"/></a>"
      ]
    },
    {
      "cell_type": "markdown",
      "metadata": {
        "id": "uvd6F4dmU7LV"
      },
      "source": [
        "# **Research Title: Study and Analysis of Global Refugee**\n",
        "\n",
        "<center><img src=\"https://cdn.dribbble.com/users/1785433/screenshots/3856086/refugees.gif\" width=\"400\"/></center>\n",
        "\n",
        "<br/>\n",
        "Group 4\n",
        "\n",
        "| Matric No | Name |\n",
        "|---- |----|\n",
        "| S2113651\t| CHUN TEIK HOO |\n",
        "| S2122184\t| WEI HUNG YEO |\n",
        "| S2110228\t| SITI NUR AMIRAH MOHAMMAD ZAMRI |\n",
        "| S2113239\t| ANGIE CHONG SIN YI |\n",
        "| S2112842\t| MUN MUN LEE |\n",
        "| S2113868\t| YINGGANG JIE |\n",
        "\n",
        "<br/><br/>\n",
        "\n",
        "---\n",
        "\n",
        "<br/><br/>"
      ]
    },
    {
      "cell_type": "code",
      "source": [],
      "metadata": {
        "id": "ishj0ezDE3J1"
      },
      "execution_count": null,
      "outputs": []
    },
    {
      "cell_type": "markdown",
      "metadata": {
        "id": "MZhpq5ylfW2r"
      },
      "source": [
        "## **Table of Content:**\n",
        "* [1.0 Introduction](#intro)\n",
        "* [1.1 Problem Statement](#problem)\n",
        "* [1.2 Overview and Motivation](#overview)\n",
        "* [1.3 Initial Questions](#question)\n",
        "* [2.0 Related Work](#RelatedWork)\n",
        "* [3.0 Data Collection](#datacollection)\n",
        "* [4.0 Data Cleaning](#DataCleaning)\n",
        "  - [4.1 Refugee Decision](#refdecision)\n",
        "  - [4.2 Refugee Application](#refapplication)\n",
        "  - [4.3 Refugee Population By Year](#refpopyr)\n",
        "  - [4.4 Refugee Population By Country](#refpopcountry)\n",
        "  - [4.5 Refugee Demographic](#refdemo)\n",
        "* [5.0 Exploratory Data Analysis (EDA)](#eda)\n",
        "  - [5.1 Share of forcibly displaced individuals in 2020 (%), by category](#5.1)\n",
        "  - [5.2 Trend of forcibly displaced individuals | 2001-2021](#5.2)\n",
        "  - [5.3 Top 3 origin countries and countries hosted largest number of refugees in 2020, by category](#5.3)\n",
        "  - [5.4 Country of Origin | By Region | 2001-2021](#5.4)\n",
        "  - [5.5 Country of Asylum | By Region | 2001-2021](#5.5)\n",
        "  - [5.6 Trend of Acceptance Rate and Gender Ratio | 2001-2021](#5.6)\n",
        "  - [5.7 Refugees population growth (by gender and age) | 2001-2021](#5.7)\n",
        "  - [5.8 Refugee Age Group Percentage](#5.8)\n",
        "* [6.0 Test Statistics](#test)\n",
        "  - [6.1 Test Statistics for Recognized Decisions and Rejected Decisions](#6.1)\n",
        "  - [6.2 Test Statistics for Gender in Total Refugees](#6.2)\n",
        "* [7.0 Modelling](#modelling)\n",
        "  - [7.1 Global Displacement Trends in 2025](#7.1)\n",
        "  - [7.2 Prediction of refugees population growth (Linear Regression)](#7.2)\n",
        "  - [7.3 Prediction of refugees population growth (ARIMA Model)](#7.3)\n",
        "* [8.0 Conclusion](#conclusion)\n",
        "* [9.0 Future Work](#FutureWork)\n",
        "* [References](#reference)\n",
        "<br/><br/>\n",
        "\n",
        "---\n",
        "\n",
        "<br/><br/>"
      ]
    },
    {
      "cell_type": "code",
      "source": [],
      "metadata": {
        "id": "dr7etWABGKQV"
      },
      "execution_count": null,
      "outputs": []
    },
    {
      "cell_type": "code",
      "source": [],
      "metadata": {
        "id": "MBi0w6skGK60"
      },
      "execution_count": null,
      "outputs": []
    },
    {
      "cell_type": "markdown",
      "metadata": {
        "id": "gWV84ZkKf3pn"
      },
      "source": [
        "<a name=\"intro\"></a>\n",
        "## **1.0 Introduction**\n",
        "\n",
        "According to recent data from the UNHCR, there are **84 million** forcibly displaced people worldwide (UNHCR, 2021). The movement of refugee migration has continued to grow at an alarming rate and this is how our attention has been drawn to the plight of refugees.\n",
        "\n",
        "People flee their home countries for a variety of reasons, including war, hunger, violence, poverty, religious or political affiliation, statelessness, discrimination, and human rights violations. The journeys of refugees begin with the hope for a better future, but they can also be long, dangerous and frightening. In addition to dealing with uncertainties during their border crossing journeys, refugees also have to overcome challenges once they arrive in another country. Language barriers, cultural norms, social status, discrimination, and unemployment are just a few examples. With ongoing difficulties settling in a new country, refugees frequently experience major physical and mental issues prior to and during displacement (Byrow, Y., 2020).\n",
        "\n",
        "The definition of refugees given by the United Nations High Commissioner for Refugees (UNHCR) as:\n",
        "\n",
        "> \"Refugees flee because of the threat of persecution and cannot return safely to their homes in the prevailing circumstances. An economic migrant normally leaves a country voluntarily to seek a better life. Should they elect to return home, they would continue to receive the protection of their government.\"\n",
        "> <center>- UNCHR <center>"
      ]
    },
    {
      "cell_type": "code",
      "source": [],
      "metadata": {
        "id": "EQoIMYAnQicc"
      },
      "execution_count": null,
      "outputs": []
    },
    {
      "cell_type": "markdown",
      "metadata": {
        "id": "2UyqKJ9hf-5O"
      },
      "source": [
        "<a name=\"problem\"></a>\n",
        "## **1.1 Problem Statement**\n",
        "\n",
        "The rapid influx of refugees has had a significant impact on governments all over the world. The most significant impacts are seen in the political, economic, and social agendas. The scale and complexity of the various problems that have resulted from increased global refugee movement pose enormous challenges to destination countries around the world. Generally, these countries struggle to strike a balance between providing protection to millions of refugees and maintaining control over their borders."
      ]
    },
    {
      "cell_type": "markdown",
      "metadata": {
        "id": "HJMAycehgGJZ"
      },
      "source": [
        "<a name=\"overview\"></a>\n",
        "## **1.2 Overview and Motivation**\n",
        "\n",
        "The global refugee population had growth in alarming rate over the past 20 years, with an increase of 461% since 2001. Previous research on refugees had primarily focused on reasons and consequences, refugee settlement challenges and impacts on vulnerable groups particularly children and women, refugee health and wellbeing, humanitarian law, human rights and refugee law. However, there has been not much comprehensive exploration on the global trends of refugee movements. Our aim is to uncover the patterns and trends of global refugee movements which help to draw public's attention to this problem and increase public's awareness.\n",
        "\n",
        "Besides that, we wish to understand and analyse the impact of demographic factors such as age band and gender. This research allows government to take effective responds to provide protection, assistance and solution to refugees in every country. Female refugee population must be taken into consideration for new operational environments in gender quality programming."
      ]
    },
    {
      "cell_type": "markdown",
      "metadata": {
        "id": "X-rDSOVjgVxd"
      },
      "source": [
        "<a name=\"question\"></a>\n",
        "## **1.3 Initial Questions**\n",
        "\n",
        "The study aims to answer the following research questions:-\n",
        "1. What are the impacts of the demographic background (age band and gender) on the number of refugees worldwide?\n",
        "2. Is there a significant different in mean between recognized decisions and rejected decisions?\n",
        "3. Is there a significant different in mean between Male and Female in number of refugees?\n",
        "3. What are the predicted total number of refugees in next 5 years, 10 years, 30 years?\n",
        "<br/><br/>\n",
        "\n",
        "---\n",
        "\n",
        "<br/><br/>"
      ]
    },
    {
      "cell_type": "markdown",
      "metadata": {
        "id": "y8TRCGEIgeCt"
      },
      "source": [
        "<a name=\"RelatedWork\"></a>\n",
        "## **2.0 Related Work**\n",
        "\n",
        "Refugees problem remains as one of the most significant human crises, and numerous studies have been conducted in this area.\n",
        "\n",
        "* One of the research conducted by Fredireick L. Ahearn has been focused on the psychosocial wellness of refugees in qualitative and quantitative research methods which emphasize the term of \"wellness\" in his research to study the relationship between the refugee experience and psychological consequences and adaption (Frederick L. Ahearn, 2000).\n",
        "\n",
        "* The UNHCR Demographic Projection Tool (DPTool) is developed by UNHCR (Field Information and Coordination Support Section (FICSS) in year 2017-2018 to apply demographic projection methodologies for estimating population planning figures(Diego & Carlota, 2018). The main purpose of this tool is to provide the evidence base for response planning and support for persons of concern (PoCs). The tool utilizes the data analytic suite introduced by the proGres v4, a registration and case management system adopted by UNHCR. It uses historical population trend, mortality and fertility rates as inputs, and predict of the future refugee populate for a given region or country. The tool will apply a series of assumptions to produce reliable prediction of the future size and composition of PoC populations. Cohort-component method is being used as the projection methodology in this tool, and Bayesian methods were incorporated to quantify the uncertainty around projection estimates. This is can be access publicly through the link below: https://demographicprojection.unhcr.org/#_ga=2.101786881.1085371526.1638785181-1796790388.1638255034\n",
        "\n",
        "* By means of little data available and no means of standardized measure to collect information related to the impact of refugees on a host country’s economy and with the controversy it carries, by using microdata from refugee camps and host-country surveys, this article used a Monte Carlo simulation approach (Taylor et al., 2016). This research was conducted on three camps; two camps were given cash aid and one was given food aid. When refugee households and businesses inside the camps buy products and services from host-country enterprises outside the camps, economic spillovers occur (Taylor et al., 2016). Outside of the camps, the host country owns multiple production enterprises and retail companies. Based on the survey results, refugee households represent 5.5% of the total income of the three camps and 17.3% of companies outside the camps claim that refugees from the camps are their main purchasers (Taylor et al., 2016). Moreover, the rules governing contacts between refugees and the host country, the organization of host economic growth, and the features of refugees all influence the economic impact of refugees. Hence, positive output gain for providing refugees to interact with the host economy.\n",
        "\n",
        "* As the number of refugees increases so do the challenges to integrate them into host societies (Bansak et al., 2018). The authors have built a data-driven algorithm by combining supervised machine learning and optimal matching to assign refugees across resettlement locations for two countries which are the United States and Switzerland. Geographic context, personal qualities, and synergy between geography and human traits are three sets of factors that influence refugee acceptance within the resettlement locations (Bansak et al., 2018). By using available data, the algorithm is able to maximize the integration outcomes. The data was trained by using the refugees’ features, location resettlement, and employment rate to predict the expected employment success rate within refugees (Bansak et al., 2018). The results found an increase in the refugees’ employment rate in the majority of the resettlement location for both countries.\n",
        "<br/><br/>\n",
        "\n",
        "---\n",
        "\n",
        "<br/><br/>"
      ]
    },
    {
      "cell_type": "markdown",
      "metadata": {
        "id": "qbu5f5lwgmtM"
      },
      "source": [
        "<a name=\"datacollection\"></a>\n",
        "## **3.0 Data Collection**\n",
        "\n",
        "This study will focus on the secondary data which is refugees data collected by UNHCR from year 2000 until 2021.\n",
        "\n",
        "### 3.1 Dataset List\n",
        "  - Refugee Decision\n",
        "  - Refugee Application\n",
        "  - Total Population of Refugee By Year\n",
        "  - Population of Refugee By Country\n",
        "  - Refugee Demographic\n",
        "\n",
        "### 3.2 Dataset Attributes Description\n",
        "\n",
        "Description of acronyms/keywords used in the dataset:\n",
        "<br/>\n",
        "\n",
        "***1. Population Type***\n",
        "\n",
        "| Population Type | Description |\n",
        "|---- |----|\n",
        "| REF | Refugee |\n",
        "| ROC | People in refugee-like situation|\n",
        "| ASY | Asylum seekers|\n",
        "| VDA | Venezuelans displaced abroad |\n",
        "| IDP | Internally displaced persons |\n",
        "| IOC | People in IDP-like situation |\n",
        "| STA | Stateless persons |\n",
        "| OOC | Others of concern |\n",
        "\n",
        "<br/>\n",
        "\n",
        "***2. Solution Code***\n",
        "\n",
        "| Solution Code | Description |\n",
        "|---- |----|\n",
        "| RET | Returned refugees |\n",
        "| RST | Resettled refugees |\n",
        "| NAT | Naturalized refugees |\n",
        "| RDP | Returned IDPs |\n",
        "\n",
        "<br/>\n",
        "\n",
        "***3. Authority***\n",
        "\n",
        "| Authority | Description |\n",
        "|---- |----|\n",
        "| G | Government |\n",
        "| J | Joint |\n",
        "| U | UNHCR |\n",
        "\n",
        "<br/>\n",
        "\n",
        "***4. Stage Procedure of Asylum Decisions***\n",
        "\n",
        "| Stage of Procedure | Stage Procedure of Asylum Decisions |\n",
        "|---- |----|\n",
        "| NA | New applications\n",
        "| FI | First instance decisions\n",
        "| AR | Administrative review decisions\n",
        "| RA | Repeat/reopened applications\n",
        "| IN | US citizenship and immigration services\n",
        "| EO | US executive office of immigration review\n",
        "| JR | Judicial review\n",
        "| SP | Subsidiary protection\n",
        "| FA | First instance and appeal\n",
        "| TP | Temporary protection\n",
        "| TA | Temporary asylum. Used in the Russian federation\n",
        "| BL | Backlog: Repeat applications processed during specific events to reduce the backlog in cases. Used by the UK in 2000, Italy in 2007 and South Africa in 2008\n",
        "| TR | Temporary leave to remain outside the asylum procedure\n",
        "| CA | Cantonal regulations in Switzerland\n",
        "\n",
        "<br/>\n",
        "\n",
        "***5. Stage of Procedure for Asylum Application***\n",
        "\n",
        "| Stage of Procedure | Stage Procedure of Asylum Application |\n",
        "|---- |----|\n",
        "| N | New applications\n",
        "| R | Repeat applications\n",
        "| A | Appeal applications\n",
        "| NAA | New and appeal applications: where the data was provided together\n",
        "| NR | New and repeat applications: where the data was provided together\n",
        "| FA | First and appeal applications: used by France in 2006, Israel in 2007 and Chad in 2017\n",
        "| J | Judiciary: applications are at the Judicial level.\n",
        "|BL | Backlog: Repeat applications processed during specific events to reduce the backlog in cases. Used by Italy in 2007 and South Africa in 2008\n",
        "| SP | Subsidiary protection: used prior to the inclusion of subsidiary protection in Europe. Used by Belgium in 2008 and Ireland in 2011\n",
        "\n",
        "<br/>\n",
        "\n",
        "***6. Location***\n",
        "\n",
        "| Location Code | Description |\n",
        "|---- |----|\n",
        "C | Camp. Note that C was discontinued after 2010, at which point the accommodation type became available\n",
        "U | Urban\n",
        "R | Rural\n",
        "V | Various/unknown\n",
        "\n",
        "<br/>\n",
        "\n",
        "***7. Accommodation Type***\n",
        "\n",
        "| Acommodation Code | Description |\n",
        "|---- |----|\n",
        "I | Individual accommodation\n",
        "S | Self-settled camp\n",
        "P | Planned/managed camp\n",
        "C | Collective centre\n",
        "R | Reception/transit camp\n",
        "U | Undefined\n",
        "\n",
        "<br/><br/>\n",
        "\n",
        "---\n",
        "\n",
        "<br/><br/>"
      ]
    },
    {
      "cell_type": "markdown",
      "metadata": {
        "id": "9mwMGHVPg_Po"
      },
      "source": [
        "<a name=\"DataCleaning\"></a>\n",
        "## **4.0 Data Cleaning**"
      ]
    },
    {
      "cell_type": "markdown",
      "metadata": {
        "id": "VZAG-MYqrXrP"
      },
      "source": [
        "In this section will show the step by step data preprocessing of data cleaning for all five datasets.\n",
        "1. Refugee Decision - `df_decision`\n",
        "2. Refugee Application - `df_application`\n",
        "3. Refugee Population By Year - `df_pop_yr`\n",
        "4. Refugee Population By Country - `df_pop_country`\n",
        "5. Refugee Demographic - `df_demo`\n"
      ]
    },
    {
      "cell_type": "markdown",
      "metadata": {
        "id": "Iu0zuEZ0hFGb"
      },
      "source": [
        "Import Library"
      ]
    },
    {
      "cell_type": "code",
      "execution_count": null,
      "metadata": {
        "id": "uperMQnGLahe"
      },
      "outputs": [],
      "source": [
        "import pandas as pd\n",
        "import seaborn as sns\n",
        "import matplotlib.pyplot as plt\n",
        "%matplotlib inline\n",
        "import numpy as np\n",
        "import sklearn\n",
        "import pdb\n",
        "import folium\n",
        "import statsmodels.api as sm\n",
        "from IPython import get_ipython\n",
        "from numpy import inf\n",
        "from scipy.stats import linregress\n",
        "from sklearn import linear_model\n",
        "from sklearn.preprocessing import MinMaxScaler\n",
        "from sklearn.model_selection import train_test_split\n",
        "from sklearn.metrics import r2_score\n",
        "from geopy.geocoders import Nominatim\n",
        "from geopy.exc import GeocoderTimedOut\n",
        "from folium.plugins import HeatMap\n",
        "from statsmodels.graphics.tsaplots import plot_acf, plot_pacf\n",
        "from statsmodels.tsa.stattools import adfuller\n",
        "\n",
        "import warnings\n",
        "warnings.filterwarnings('ignore', 'statsmodels.tsa.arima_model.ARMA',\n",
        "                        FutureWarning)\n",
        "warnings.filterwarnings('ignore', 'statsmodels.tsa.arima_model.ARIMA',\n",
        "                        FutureWarning)"
      ]
    },
    {
      "cell_type": "markdown",
      "metadata": {
        "id": "-wF7_8e8PZKJ"
      },
      "source": [
        "<a name=\"refdecision\"></a>\n",
        "## **4.1 Refugee Decision**"
      ]
    },
    {
      "cell_type": "code",
      "execution_count": null,
      "metadata": {
        "id": "Lz8oocErLbjt"
      },
      "outputs": [],
      "source": [
        "#Import the dataset and random sample a few rows\n",
        "df_decision = pd.read_csv(\"https://raw.githubusercontent.com/S2113651/WQD7003-DataAnalytic/main/Dataset/asylum-decisions/asylum-decisions.csv\")\n",
        "df_decision.sample(5)"
      ]
    },
    {
      "cell_type": "code",
      "execution_count": null,
      "metadata": {
        "id": "iEwOr5FlhQpn"
      },
      "outputs": [],
      "source": [
        ""
      ]
    },
    {
      "cell_type": "code",
      "execution_count": null,
      "metadata": {
        "id": "Y56Tlx06hSwv"
      },
      "outputs": [],
      "source": [
        "#Calculate the missing rate of each column\n",
        "missing_rate = df_decision.isnull().sum() * 100 / len(df_decision)\n",
        "missing_value_df_decision = pd.DataFrame({'missing_rate %': round(missing_rate,2)})\n",
        "missing_value_df_decision.sort_values('missing_rate %', ascending=False)"
      ]
    },
    {
      "cell_type": "markdown",
      "metadata": {
        "id": "H_8XjTHPhU8_"
      },
      "source": [
        "* In refugee's decision dataset, Stage of procedure has highest missing rate of 8.18%, followed by Country of origin (ISO) with 1.04%\n",
        "* Require treatment for both Stage of procedure and Country of origin (ISO)"
      ]
    },
    {
      "cell_type": "code",
      "execution_count": null,
      "metadata": {
        "id": "s17FhYLNhWql"
      },
      "outputs": [],
      "source": [
        "print(df_decision['Country of asylum'].value_counts())\n",
        "print(df_decision['Country of asylum (ISO)'].value_counts())"
      ]
    },
    {
      "cell_type": "markdown",
      "metadata": {
        "id": "xeLuWwEVhZAz"
      },
      "source": [
        "* Country of asylum and Country of asylum (ISO) with dashed '-' values\n",
        "* Omit out Country of asylum & Country of asylum (ISO) columns and leave only the desired columns"
      ]
    },
    {
      "cell_type": "code",
      "execution_count": null,
      "metadata": {
        "id": "t4C54D0FhbGI"
      },
      "outputs": [],
      "source": [
        "df_decision = df_decision.drop(['Country of asylum', 'Country of asylum (ISO)'], axis=1)\n",
        "df_decision.head()"
      ]
    },
    {
      "cell_type": "code",
      "execution_count": null,
      "metadata": {
        "colab": {
          "base_uri": "https://localhost:8080/",
          "height": 208
        },
        "id": "GU5uEtxghdBs",
        "outputId": "920170db-4344-424e-87a2-54a6f76b2f06"
      },
      "outputs": [
        {
          "output_type": "error",
          "ename": "NameError",
          "evalue": "ignored",
          "traceback": [
            "\u001b[0;31m---------------------------------------------------------------------------\u001b[0m",
            "\u001b[0;31mNameError\u001b[0m                                 Traceback (most recent call last)",
            "\u001b[0;32m<ipython-input-2-2e9e27aedd6b>\u001b[0m in \u001b[0;36m<module>\u001b[0;34m\u001b[0m\n\u001b[1;32m      3\u001b[0m \u001b[0;31m# 'Country of origin (ISO)' = 277\u001b[0m\u001b[0;34m\u001b[0m\u001b[0;34m\u001b[0m\u001b[0;34m\u001b[0m\u001b[0m\n\u001b[1;32m      4\u001b[0m \u001b[0;31m# 'Stage of procedure' = 2170\u001b[0m\u001b[0;34m\u001b[0m\u001b[0;34m\u001b[0m\u001b[0;34m\u001b[0m\u001b[0m\n\u001b[0;32m----> 5\u001b[0;31m \u001b[0mdf_decision\u001b[0m\u001b[0;34m.\u001b[0m\u001b[0misnull\u001b[0m\u001b[0;34m(\u001b[0m\u001b[0;34m)\u001b[0m\u001b[0;34m.\u001b[0m\u001b[0msum\u001b[0m\u001b[0;34m(\u001b[0m\u001b[0;34m)\u001b[0m\u001b[0;34m\u001b[0m\u001b[0;34m\u001b[0m\u001b[0m\n\u001b[0m",
            "\u001b[0;31mNameError\u001b[0m: name 'df_decision' is not defined"
          ]
        }
      ],
      "source": [
        "# To determine the number of missing values and where it occurs\n",
        "# Missing values occur at:\n",
        "# 'Country of origin (ISO)' = 277\n",
        "# 'Stage of procedure' = 2170\n",
        "df_decision.isnull().sum()"
      ]
    },
    {
      "cell_type": "code",
      "execution_count": null,
      "metadata": {
        "id": "RubUFmKEh4DQ"
      },
      "outputs": [],
      "source": [
        "ISO_na= pd.isnull(df_decision['Country of origin (ISO)'])\n",
        "df_decision[ISO_na]"
      ]
    },
    {
      "cell_type": "code",
      "execution_count": null,
      "metadata": {
        "id": "_2ubEMqxh6iC"
      },
      "outputs": [],
      "source": [
        "# fillna() is used to fill out missing values in 'Country of origin (ISO)' and 'Stage of procedure' by replacing them with 'Not Applicable' statement\n",
        "# inplace = True parameter is used to confirm the modification of data\n",
        "df_decision.fillna('Not Applicable', inplace = True)"
      ]
    },
    {
      "cell_type": "code",
      "execution_count": null,
      "metadata": {
        "id": "MQ6fYpM5h8yL"
      },
      "outputs": [],
      "source": [
        "# All the NaN values are now replace with 'Not Applicable'\n",
        "df_decision.fillna('Not Applicable')"
      ]
    },
    {
      "cell_type": "code",
      "execution_count": null,
      "metadata": {
        "id": "VJNaY2PDh-1m"
      },
      "outputs": [],
      "source": [
        "# Verify that there is no more missing value\n",
        "df_decision.isnull().sum()"
      ]
    },
    {
      "cell_type": "markdown",
      "metadata": {
        "id": "78r_XvoPiHrY"
      },
      "source": [
        "Decode categorical values for better understanding rather than guessing the abbreviation"
      ]
    },
    {
      "cell_type": "code",
      "execution_count": null,
      "metadata": {
        "id": "wupTe79siJ3f"
      },
      "outputs": [],
      "source": [
        "# Map the description for categorical values\n",
        "df_decision['Cases / Persons'] = df_decision['Cases / Persons'].map({'P': 'Persons', 'C': 'Cases'})\n",
        "df_decision['Authority'] = df_decision['Authority'].map({'G': 'Government', 'J': 'Joint', 'U': 'UNHCR'})\n",
        "df_decision['Stage of procedure'] = df_decision['Stage of procedure'].map({\n",
        "    'NA': 'New Application',\n",
        "    'FI': 'First Instance Decision',\n",
        "    'AR': 'Administrative Review Decision',\n",
        "    'RA': 'Repeat/Reopened Application',\n",
        "    'IN': 'Immigration Citizenship',\n",
        "    'EO': 'Immigration Executive Office',\n",
        "    'JR': 'Judicial Review',\n",
        "    'SP': 'Subsidiary Protection',\n",
        "    'FA': 'First Instance and Appeal',\n",
        "    'TP': 'Temporary Protection',\n",
        "    'TA': 'Temporary Asylum',\n",
        "    'BL': 'Backlog',\n",
        "    'TR': 'Temporary Leave',\n",
        "    'CA': 'Cantonal Regulations',\n",
        "    'Not Applicable': 'Not Applicable'})\n",
        "df_decision.head()"
      ]
    },
    {
      "cell_type": "code",
      "execution_count": null,
      "metadata": {
        "id": "Xadm2KQXiMsF"
      },
      "outputs": [],
      "source": [
        "#Calculate the frequency of selected variable\n",
        "object_vars = ['Authority', 'Stage of procedure', 'Cases / Persons']\n",
        "\n",
        "for cols in object_vars:\n",
        "    print ('\\nFrequency of variable: %s'%cols)\n",
        "    print(df_decision[cols].value_counts())"
      ]
    },
    {
      "cell_type": "code",
      "execution_count": null,
      "metadata": {
        "id": "t0zE8nPeiPC4"
      },
      "outputs": [],
      "source": [
        "# Description of the dataset - Numerical\n",
        "df_decision.describe().T"
      ]
    },
    {
      "cell_type": "markdown",
      "metadata": {
        "id": "i2ZVxiLriRHi"
      },
      "source": [
        "* Average recognized decisions is 207\n",
        "* Average complementary protection is 91\n",
        "* Average rejected decisions is 376\n",
        "* Average total decisions is 951"
      ]
    },
    {
      "cell_type": "code",
      "execution_count": null,
      "metadata": {
        "id": "RuQ12A4XiS6n"
      },
      "outputs": [],
      "source": [
        "# Description of the dataset - Object\n",
        "df_decision.describe(include=['object']).T"
      ]
    },
    {
      "cell_type": "markdown",
      "metadata": {
        "id": "jh_r2PsbiUkW"
      },
      "source": [
        "* Top country of origin is Dem. Rep. of the Congo\n",
        "* Top authority is Government\n",
        "* Top stage of procedure is FI - First Instance Decision\n",
        "* Top data type is Persons"
      ]
    },
    {
      "cell_type": "code",
      "execution_count": null,
      "metadata": {
        "id": "R7UXUligiWMn"
      },
      "outputs": [],
      "source": [
        "final_dec = df_decision[df_decision['Total decisions'] < 500000]"
      ]
    },
    {
      "cell_type": "code",
      "execution_count": null,
      "metadata": {
        "id": "BNsPpUobidO2"
      },
      "outputs": [],
      "source": [
        "# Outliers\n",
        "final_dec[['Total decisions', 'Year']].plot(kind = 'scatter',\n",
        "                                            x = 'Total decisions',\n",
        "                                            y = 'Year',\n",
        "                                            figsize = (20, 10))"
      ]
    },
    {
      "cell_type": "code",
      "execution_count": null,
      "metadata": {
        "id": "VDdsYqlaigxJ"
      },
      "outputs": [],
      "source": [
        "# Want to calculate the means of 'Total decisions' but want to omit out the outliers\n",
        "df_decision2 = df_decision[df_decision['Total decisions'] <= 100]"
      ]
    },
    {
      "cell_type": "code",
      "execution_count": null,
      "metadata": {
        "id": "BjvHhTM9il71"
      },
      "outputs": [],
      "source": [
        "# Means of variable based on 'Year'\n",
        "df_decision2.groupby('Year').mean()"
      ]
    },
    {
      "cell_type": "code",
      "execution_count": null,
      "metadata": {
        "id": "xR9b2LrrixDT"
      },
      "outputs": [],
      "source": [
        "# Specific describtion based on 'Year' & 'Total decisions'\n",
        "df_decision2.groupby('Year')['Total decisions'].describe()"
      ]
    },
    {
      "cell_type": "markdown",
      "metadata": {
        "id": "l7ZETiTuh5cQ"
      },
      "source": [
        "<br/><br/>\n",
        "\n",
        "---\n",
        "\n",
        "<br/><br/>"
      ]
    },
    {
      "cell_type": "markdown",
      "metadata": {
        "id": "FOfe0VgJPaf9"
      },
      "source": [
        "<a name=\"refapplication\"></a>\n",
        "## **4.2 Refugee Application**\n"
      ]
    },
    {
      "cell_type": "code",
      "execution_count": null,
      "metadata": {
        "id": "43i5dRXXLkgV"
      },
      "outputs": [],
      "source": [
        "#Import the dataset required and print a few samples\n",
        "df_application = pd.read_csv(\"https://raw.githubusercontent.com/AngieChong/WQD-7003-Data-Analytics/main/asylum-applications2.csv\")\n",
        "df_application.sample(5)"
      ]
    },
    {
      "cell_type": "code",
      "execution_count": null,
      "metadata": {
        "id": "gw8XnrB0i5wQ"
      },
      "outputs": [],
      "source": [
        "#Obtain information about dataset\n",
        "df_application.info()"
      ]
    },
    {
      "cell_type": "code",
      "execution_count": null,
      "metadata": {
        "id": "Hl3t84Wwi-0h"
      },
      "outputs": [],
      "source": [
        "# calculate missing rate\n",
        "missing_rate = df_application.isnull().sum() * 100 / len(df_application)\n",
        "missing_value_df_application = pd.DataFrame({'missing_rate %': round(missing_rate,2)})\n",
        "missing_value_df_application.sort_values('missing_rate %', ascending=False)"
      ]
    },
    {
      "cell_type": "markdown",
      "metadata": {
        "id": "8PnR9rrSjcEB"
      },
      "source": [
        "* In refugee's application dataset, Country of origin (ISO)\t has highest missing rate of 1.0% (\n",
        "* Check and drop missing values"
      ]
    },
    {
      "cell_type": "code",
      "execution_count": null,
      "metadata": {
        "id": "hb22d9t-jbyU"
      },
      "outputs": [],
      "source": [
        "# Checking missing value of Country of Origin (ISO)\n",
        "missing_OriginCountry = pd.isnull(df_application[\"Country of origin (ISO)\"])\n",
        "df_application[missing_OriginCountry].sample(10)"
      ]
    },
    {
      "cell_type": "code",
      "execution_count": null,
      "metadata": {
        "id": "S0zPAXQljVqF"
      },
      "outputs": [],
      "source": [
        "# Remove missing NaN\n",
        "df_application = df_application.dropna().copy()\n",
        "\n",
        "# There is no more missing value\n",
        "df_application.isnull().sum()"
      ]
    },
    {
      "cell_type": "code",
      "execution_count": null,
      "metadata": {
        "id": "4GMw6W1MjxDF"
      },
      "outputs": [],
      "source": [
        "# Find unique value for Application type\n",
        "print(df_application['Application type'].unique())\n",
        "\n",
        "# Find unique value for Application's Stage of procedure\n",
        "print(df_application['Stage of procedure'].unique())"
      ]
    },
    {
      "cell_type": "markdown",
      "metadata": {
        "id": "fHHyS_BZj78E"
      },
      "source": [
        "Decode categorical values for better understanding rather than guessing the abbreviation"
      ]
    },
    {
      "cell_type": "code",
      "execution_count": null,
      "metadata": {
        "id": "iWVNVC_Kj9nc"
      },
      "outputs": [],
      "source": [
        "# Map the description for categorical values\n",
        "df_application['Cases / Persons'] = df_application['Cases / Persons'].map({'P': 'Persons', 'C': 'Cases'})\n",
        "df_application['Authority'] = df_application['Authority'].map({'G': 'Government', 'J': 'Joint', 'U': 'UNHCR'})\n",
        "df_application['Application type'] = df_application['Application type'].map({\n",
        "    'V': 'Various/unknown',\n",
        "    'A': 'Appeal Application',\n",
        "    'N': 'New Application',\n",
        "    'NR': 'New and Repeat Application',\n",
        "    'R': 'Repeat Application',\n",
        "    'NAA': 'NAA', # take note\n",
        "    'FA': 'First and Aappeal Application',\n",
        "    'SP': 'Subsidiary Protection',\n",
        "    'J': 'Judiciary'})\n",
        "df_application['Stage of procedure'] = df_application['Stage of procedure'].map({\n",
        "    'FI': 'First Instance Decision',\n",
        "    'AR': 'Administrative Review Decision',\n",
        "    'FA': 'First Instance and Appeal',\n",
        "    'NAA': 'NAA', # take note\n",
        "    'RA': 'Repeat/Reopened Application',\n",
        "    'EO': 'Immigration Executive Office',\n",
        "    'IN': 'Immigration Citizenship',\n",
        "    'fi': 'First Instance Decision',\n",
        "    'JR': 'Judicial Review',\n",
        "    'ar': 'Administrative Review Decision',\n",
        "    'SP': 'Subsidiary Protection',\n",
        "    'TA': 'Temporary Asylum'})\n",
        "df_application.head()"
      ]
    },
    {
      "cell_type": "code",
      "execution_count": null,
      "metadata": {
        "id": "W748zvmmj_f-"
      },
      "outputs": [],
      "source": [
        "object_vars = ['Authority', 'Stage of procedure', 'Cases / Persons', 'Application type']\n",
        "\n",
        "for cols in object_vars:\n",
        "    print ('\\nFrequency of variable: %s'%cols)\n",
        "    print(df_application[cols].value_counts())"
      ]
    },
    {
      "cell_type": "code",
      "execution_count": null,
      "metadata": {
        "id": "l4CQPq8Wj_ZN"
      },
      "outputs": [],
      "source": [
        "# Description of the dataset - Numerical\n",
        "df_application.describe().T"
      ]
    },
    {
      "cell_type": "markdown",
      "metadata": {
        "id": "_k8aM80bkEPE"
      },
      "source": [
        "* Average applied is 267"
      ]
    },
    {
      "cell_type": "code",
      "execution_count": null,
      "metadata": {
        "id": "lofokzJvkF70"
      },
      "outputs": [],
      "source": [
        "# Description of the dataset - Object\n",
        "df_application.describe(include=['object']).T"
      ]
    },
    {
      "cell_type": "markdown",
      "metadata": {
        "id": "opONH81pkH8-"
      },
      "source": [
        "* Top country of origin is Iraq\n",
        "* Top country of asylum is USA\n",
        "* Top authority is Government\n",
        "* Top application type is New Application\n",
        "* Top stage of procedure is FI - First Instance Decision\n",
        "* Top data type is Persons"
      ]
    },
    {
      "cell_type": "code",
      "execution_count": null,
      "metadata": {
        "id": "x42nzeCzknJA"
      },
      "outputs": [],
      "source": [
        "df_application.groupby(['Authority','Country of origin']).size().unstack()"
      ]
    },
    {
      "cell_type": "markdown",
      "metadata": {
        "id": "lx_Ujr8XkrfG"
      },
      "source": [
        "Overview of refugee application's trend"
      ]
    },
    {
      "cell_type": "code",
      "execution_count": null,
      "metadata": {
        "id": "aaJFJDnxkuPW"
      },
      "outputs": [],
      "source": [
        "fig = plt.figure(figsize = (10, 5))\n",
        "\n",
        "# Creating the bar plot\n",
        "plt.plot(df_application['Year'], df_application['applied'])\n",
        "\n",
        "plt.xlabel(\"Year\")\n",
        "plt.ylabel(\"No. of Applied\")\n",
        "plt.title(\"Refugee Applied in Years\")\n",
        "plt.show()"
      ]
    },
    {
      "cell_type": "markdown",
      "metadata": {
        "id": "7bx9zakHvtFR"
      },
      "source": [
        "Refugee Application Distribution - boxplot (2000-2021)"
      ]
    },
    {
      "cell_type": "code",
      "execution_count": null,
      "metadata": {
        "id": "FRJXhZ7HvvQd"
      },
      "outputs": [],
      "source": [
        "get_ipython().run_line_magic('matplotlib', 'inline')\n",
        "plt.rcParams['figure.figsize'] = (50,10)\n",
        "df_application.boxplot(by='Year', grid='True', column=['applied'], color='red',fontsize='30')"
      ]
    },
    {
      "cell_type": "code",
      "execution_count": null,
      "metadata": {
        "id": "NgCmZ5cFv6EV"
      },
      "outputs": [],
      "source": [
        "# Outliers\n",
        "df_application[['applied', 'Year']].plot(kind = 'scatter',\n",
        "                                            x = 'applied',\n",
        "                                            y = 'Year',\n",
        "                                            figsize = (20, 10))"
      ]
    },
    {
      "cell_type": "markdown",
      "metadata": {
        "id": "Kdq-UVl_h3FF"
      },
      "source": [
        "<br/><br/>\n",
        "\n",
        "---\n",
        "\n",
        "<br/><br/>"
      ]
    },
    {
      "cell_type": "markdown",
      "metadata": {
        "id": "Ve04kdiiSzJh"
      },
      "source": [
        "<a name=\"refpopyr\"></a>\n",
        "## **4.3 Refugee Population By Year**"
      ]
    },
    {
      "cell_type": "code",
      "execution_count": null,
      "metadata": {
        "id": "gra9-H8uPXgR"
      },
      "outputs": [],
      "source": [
        "df_pop_yr = pd.read_csv(\"https://raw.githubusercontent.com/S2113651/WQD7003-DataAnalytic/main/Dataset/population/population.csv\")\n",
        "df_pop_yr.sample(5)"
      ]
    },
    {
      "cell_type": "markdown",
      "metadata": {
        "id": "T47_2cpbK4fa"
      },
      "source": [
        "* The dataset provides historicial data on the number of the refugees and other displaced people recorded.\n",
        "* There is a further breakdown into different category based on their current status as a refugee. Based on the random samples from the datasets, there are signs that certain columns contain missing data."
      ]
    },
    {
      "cell_type": "code",
      "execution_count": null,
      "metadata": {
        "id": "cm-rIQqILkSR"
      },
      "outputs": [],
      "source": [
        "# Obtain summary of the dataset\n",
        "df_pop_yr.info()\n",
        "\n",
        "# Count number of empty data in each column\n",
        "df_pop_yr.isnull().sum()"
      ]
    },
    {
      "cell_type": "code",
      "execution_count": null,
      "metadata": {
        "id": "igHPyj7b3AAK"
      },
      "outputs": [],
      "source": [
        "missing_rate = df_pop_yr.isnull().sum() * 100 / len(df_pop_yr)\n",
        "missing_value_df = pd.DataFrame({'missing_rate %': round(missing_rate,2)})\n",
        "missing_value_df.sort_values('missing_rate %', ascending=False)"
      ]
    },
    {
      "cell_type": "markdown",
      "metadata": {
        "id": "Y-GeGJfSOGxo"
      },
      "source": [
        "* From the sumamry, only \"Venezuelans displaced abroad\" column contains missing values.\n",
        "* However, from the samples in the previous section we know that certain columns have values as \"0\" or \"-\" which will affect the results of our analysis."
      ]
    },
    {
      "cell_type": "code",
      "execution_count": null,
      "metadata": {
        "id": "1TFSPo2-PBdh",
        "colab": {
          "base_uri": "https://localhost:8080/",
          "height": 226
        },
        "outputId": "2e05ce23-a9f5-41b4-990c-9d58dc320f57"
      },
      "outputs": [
        {
          "output_type": "error",
          "ename": "NameError",
          "evalue": "ignored",
          "traceback": [
            "\u001b[0;31m---------------------------------------------------------------------------\u001b[0m",
            "\u001b[0;31mNameError\u001b[0m                                 Traceback (most recent call last)",
            "\u001b[0;32m<ipython-input-3-55d21cf40ed4>\u001b[0m in \u001b[0;36m<module>\u001b[0;34m\u001b[0m\n\u001b[1;32m      1\u001b[0m \u001b[0;31m# Checking for available value of Venezuelans displaced abroad\u001b[0m\u001b[0;34m\u001b[0m\u001b[0;34m\u001b[0m\u001b[0;34m\u001b[0m\u001b[0m\n\u001b[1;32m      2\u001b[0m \u001b[0;34m\u001b[0m\u001b[0m\n\u001b[0;32m----> 3\u001b[0;31m \u001b[0mavailable_Venezuelans\u001b[0m \u001b[0;34m=\u001b[0m \u001b[0mpd\u001b[0m\u001b[0;34m.\u001b[0m\u001b[0mnotnull\u001b[0m\u001b[0;34m(\u001b[0m\u001b[0mdf_pop_yr\u001b[0m\u001b[0;34m[\u001b[0m\u001b[0;34m\"Venezuelans displaced abroad\"\u001b[0m\u001b[0;34m]\u001b[0m\u001b[0;34m)\u001b[0m\u001b[0;34m\u001b[0m\u001b[0;34m\u001b[0m\u001b[0m\n\u001b[0m\u001b[1;32m      4\u001b[0m \u001b[0mdf_pop_yr\u001b[0m\u001b[0;34m[\u001b[0m\u001b[0mavailable_Venezuelans\u001b[0m\u001b[0;34m]\u001b[0m\u001b[0;34m\u001b[0m\u001b[0;34m\u001b[0m\u001b[0m\n",
            "\u001b[0;31mNameError\u001b[0m: name 'pd' is not defined"
          ]
        }
      ],
      "source": [
        "# Checking for available value of Venezuelans displaced abroad\n",
        "\n",
        "available_Venezuelans = pd.notnull(df_pop_yr[\"Venezuelans displaced abroad\"])\n",
        "df_pop_yr[available_Venezuelans]"
      ]
    },
    {
      "cell_type": "markdown",
      "metadata": {
        "id": "Zi6i77NVQEBt"
      },
      "source": [
        "* Looking at the available data of Venezuelans displaced abroad, it is shown that data only exists from 2018 onwards.\n",
        "* This is because the new category is only introduced in 2018. Analysis on this data column should on be limited to year range of 2018 and onwards."
      ]
    },
    {
      "cell_type": "code",
      "execution_count": null,
      "metadata": {
        "id": "kQQdRlVyQ0AE"
      },
      "outputs": [],
      "source": [
        "df_pop_yr.describe(include=['object'])"
      ]
    },
    {
      "cell_type": "code",
      "execution_count": null,
      "metadata": {
        "id": "RLvqjZx83yRL"
      },
      "outputs": [],
      "source": [
        "#print all unique values of each columns\n",
        "print(df_pop_yr['Country of origin'].unique())\n",
        "print(df_pop_yr['Country of origin (ISO)'].unique())\n",
        "\n",
        "print(df_pop_yr['Country of asylum'].unique())\n",
        "print(df_pop_yr['Country of asylum (ISO)'].unique())"
      ]
    },
    {
      "cell_type": "markdown",
      "metadata": {
        "id": "NrSccTFbV5uH"
      },
      "source": [
        "* From the table above, it is shown that 'Country of origin', 'Country of origin(ISO)', 'Country of asylum' and 'Country of asylum (ISO)' do not contains any other value beside '-'. Hence, these four columns will be removed."
      ]
    },
    {
      "cell_type": "code",
      "execution_count": null,
      "metadata": {
        "id": "jNVphW0dV4Wl"
      },
      "outputs": [],
      "source": [
        "# Drop the four columns\n",
        "df_pop_yr = df_pop_yr.drop(['Country of origin', 'Country of origin (ISO)', 'Country of asylum', 'Country of asylum (ISO)'], axis=1)\n",
        "\n",
        "# Verify that the four columns are dropped\n",
        "df_pop_yr.info()"
      ]
    },
    {
      "cell_type": "markdown",
      "metadata": {
        "id": "W2S9RZnT4CtY"
      },
      "source": [
        "Types of Refugees in Years - line plot"
      ]
    },
    {
      "cell_type": "code",
      "execution_count": null,
      "metadata": {
        "id": "remL_leZYoi6"
      },
      "outputs": [],
      "source": [
        "# Show all the datasets as a line plot\n",
        "fig, population = plt.subplots(figsize = (10, 5))\n",
        "\n",
        "population.plot(df_pop_yr['Year'], df_pop_yr[\"Refugees under UNHCR's mandate\"], label = \"Refugees under UNHCR's mandate\")\n",
        "population.plot(df_pop_yr['Year'], df_pop_yr['Asylum-seekers'], label = 'Asylum-seekers')\n",
        "population.plot(df_pop_yr['Year'], df_pop_yr['Returned refugees'], label = 'Returned refugees')\n",
        "population.plot(df_pop_yr['Year'], df_pop_yr['IDPs of concern to UNHCR'], label = 'IDPs of concern to UNHCR')\n",
        "population.plot(df_pop_yr['Year'], df_pop_yr['Returned IDPss'], label = 'Returned IDPss')\n",
        "population.plot(df_pop_yr['Year'], df_pop_yr['Stateless persons'], label = 'Stateless persons')\n",
        "population.plot(df_pop_yr['Year'], df_pop_yr['Others of concern'], label = 'Others of concern')\n",
        "population.plot(df_pop_yr['Year'], df_pop_yr['Venezuelans displaced abroad'], label = 'Venezuelans displaced abroad')\n",
        "\n",
        "population.legend(loc = 'upper left')\n",
        "\n",
        "plt.xlabel(\"Year\")\n",
        "plt.ylabel(\"Types of Refugees\")\n",
        "plt.title(\"Types of Refugees in Years\")\n",
        "plt.show()"
      ]
    },
    {
      "cell_type": "code",
      "execution_count": null,
      "metadata": {
        "id": "ImMn25b7a5zv"
      },
      "outputs": [],
      "source": [
        "df_pop_yr.describe().T"
      ]
    },
    {
      "cell_type": "markdown",
      "metadata": {
        "id": "pEdHBRPfbK6z"
      },
      "source": [
        "* By observing the plot and statistical summary of the dataset, 'Asylum-seekers', 'IDPs of concern to UNHCR', 'Returned IDPss', 'Stateless persons' and 'Others of concern' is showing similar trends.\n",
        "* More than 50% of the columns are 0 and this is because such classification are not introduced since the beginning when the datasets is first collected. Data of the columns before the introduced year should not be included as part of the analysis."
      ]
    },
    {
      "cell_type": "markdown",
      "metadata": {
        "id": "E0cJTi4eh1FY"
      },
      "source": [
        "<br/><br/>\n",
        "\n",
        "---\n",
        "\n",
        "<br/><br/>"
      ]
    },
    {
      "cell_type": "markdown",
      "metadata": {
        "id": "dlMXs4s0UKnl"
      },
      "source": [
        "<a name=\"refpopcountry\"></a>\n",
        "## **4.4 Refugee Population By Country**"
      ]
    },
    {
      "cell_type": "code",
      "execution_count": null,
      "metadata": {
        "id": "VK9dGGsRSI5k"
      },
      "outputs": [],
      "source": [
        "df_pop_country = pd.read_csv(\"https://raw.githubusercontent.com/S2113651/WQD7003-DataAnalytic/main/Dataset/population/population_Country/population.csv\")\n",
        "df_pop_country.sample(5)"
      ]
    },
    {
      "cell_type": "code",
      "execution_count": null,
      "metadata": {
        "id": "GAzRrBRGIHuF"
      },
      "outputs": [],
      "source": [
        "df_pop_country.info()"
      ]
    },
    {
      "cell_type": "code",
      "execution_count": null,
      "metadata": {
        "id": "wGNiJZccIrF3"
      },
      "outputs": [],
      "source": [
        "# Missing values\n",
        "df_pop_country.isnull().sum()"
      ]
    },
    {
      "cell_type": "code",
      "execution_count": null,
      "metadata": {
        "id": "Jd9L5Y9uI4C2"
      },
      "outputs": [],
      "source": [
        "missing_rate = df_pop_country.isnull().sum() * 100 / len(df_pop_country)\n",
        "missing_value_df_pop_country = pd.DataFrame({'missing_rate %': round(missing_rate,2)})\n",
        "missing_value_df_pop_country.sort_values('missing_rate %', ascending=False)"
      ]
    },
    {
      "cell_type": "markdown",
      "metadata": {
        "id": "jYBJmGEA-93o"
      },
      "source": [
        "* 'Venezuelans displaced abroad' has highest missing rate of 99.93%, followed by Country of origin (ISO) with 2.88%, and Country of asylum (ISO) with 0.05%.\n",
        "* As 'Venezuelans displaced abroad' only appeared after 2018, could drop 'Venezuelans displaced abroad' as limited info available."
      ]
    },
    {
      "cell_type": "code",
      "execution_count": null,
      "metadata": {
        "id": "U9ktz5y5JONB"
      },
      "outputs": [],
      "source": [
        "df_pop_country = df_pop_country.drop(['Venezuelans displaced abroad'], axis=1).copy()\n",
        "df_pop_country.info()"
      ]
    },
    {
      "cell_type": "code",
      "execution_count": null,
      "metadata": {
        "id": "vbc3_WiA_ENp"
      },
      "outputs": [],
      "source": [
        "# Remove missing NaN\n",
        "df_pop_country = df_pop_country.dropna()\n",
        "\n",
        "# There is no more missing value\n",
        "df_pop_country.isnull().sum()"
      ]
    },
    {
      "cell_type": "code",
      "execution_count": null,
      "metadata": {
        "id": "7srre9e1IUA0"
      },
      "outputs": [],
      "source": [
        "# Print unique of object data type - Country ISO\n",
        "obj = ['Country of origin (ISO)', 'Country of asylum (ISO)']\n",
        "\n",
        "for column in obj:\n",
        "  print(column, ':', df_pop_country[column].unique(), '\\n')"
      ]
    },
    {
      "cell_type": "markdown",
      "metadata": {
        "id": "IZZiNdHk_KUd"
      },
      "source": [
        "* As we will use Country (ISO) for our analysis, thus the unique values of Country (ISO) will be printed out to eyeball check if the country codes are legit."
      ]
    },
    {
      "cell_type": "code",
      "execution_count": null,
      "metadata": {
        "id": "Dz10XhZqHhWL"
      },
      "outputs": [],
      "source": [
        "# Description of the dataset - Numerical\n",
        "df_pop_country.describe().T"
      ]
    },
    {
      "cell_type": "markdown",
      "metadata": {
        "id": "0Q0QrcmI_Py-"
      },
      "source": [
        "* Average Refugees under UNHCR's mandate is 4949\n",
        "* Average Asylum-seekers is 313\n",
        "* Average IDPs of concern to UNHCR is 4729\n",
        "* Average Stateless persons to UNHCR is 635\n",
        "* Average Others of concern is 396\n"
      ]
    },
    {
      "cell_type": "code",
      "execution_count": null,
      "metadata": {
        "id": "Ivp6tyb2_R0s"
      },
      "outputs": [],
      "source": [
        "# Description of the dataset - Object\n",
        "df_pop_country.describe(include=['object']).T"
      ]
    },
    {
      "cell_type": "markdown",
      "metadata": {
        "id": "Fk7JIM0Z_Tr7"
      },
      "source": [
        "* Top country of origin is Somalia\n",
        "* Top country of asylum is USA"
      ]
    },
    {
      "cell_type": "markdown",
      "metadata": {
        "id": "6SFkBl1VhxI9"
      },
      "source": [
        "<br/><br/>\n",
        "\n",
        "---\n",
        "\n",
        "<br/><br/>"
      ]
    },
    {
      "cell_type": "markdown",
      "metadata": {
        "id": "OcJg4_Ywrioc"
      },
      "source": [
        "<a name=\"refdemo\"></a>\n",
        "## **4.5 Refugee Demographic**"
      ]
    },
    {
      "cell_type": "code",
      "execution_count": null,
      "metadata": {
        "id": "IlDFj_B_k19h"
      },
      "outputs": [],
      "source": [
        "df_demo = pd.read_csv(\"https://raw.githubusercontent.com/S2113651/WQD7003-DataAnalytic/main/Dataset/demographic/demographics.csv\")"
      ]
    },
    {
      "cell_type": "markdown",
      "metadata": {
        "id": "07GFzVl6k37C"
      },
      "source": [
        "### Explore Data\n",
        "1. Identify Column Data Type\n",
        "2. Identity Total Row in Dataset\n",
        "3. View Sample Data\n",
        "4. Describe Data\n",
        "5. Identify Missing Data"
      ]
    },
    {
      "cell_type": "code",
      "execution_count": null,
      "metadata": {
        "id": "QtdftQHik6WH"
      },
      "outputs": [],
      "source": [
        "# 1. Identify Column Data Type\n",
        "df_demo.dtypes"
      ]
    },
    {
      "cell_type": "code",
      "execution_count": null,
      "metadata": {
        "id": "5OdL9qbck8lH"
      },
      "outputs": [],
      "source": [
        "# 2. Identity Total Row in Dataset\n",
        "print(f'The Demographic Dataset has {len(df_demo)} rows')"
      ]
    },
    {
      "cell_type": "markdown",
      "metadata": {
        "id": "j3xwRCv5k-xy"
      },
      "source": [
        "From the Column Data Type tabulation above, we can summarized that:\n",
        "1. There are 4 columns with object data type.\n",
        "2. There are 14 columns with int64 data type.\n",
        "3. There are 6 columns with float64 data type. These columns need to be investigated as the column should not be in float64 type."
      ]
    },
    {
      "cell_type": "code",
      "execution_count": null,
      "metadata": {
        "id": "03LrVgh7lAS2"
      },
      "outputs": [],
      "source": [
        "# 3. View Sample Data\n",
        "df_demo.sample(n=5)"
      ]
    },
    {
      "cell_type": "code",
      "execution_count": null,
      "metadata": {
        "id": "-wDUb720lBxS"
      },
      "outputs": [],
      "source": [
        "# 4. Describe Data\n",
        "df_demo.describe()"
      ]
    },
    {
      "cell_type": "code",
      "execution_count": null,
      "metadata": {
        "id": "4B1a1pLDlDKq"
      },
      "outputs": [],
      "source": [
        "df_demo.describe(include=['object'])"
      ]
    },
    {
      "cell_type": "code",
      "execution_count": null,
      "metadata": {
        "id": "hloQ3xP8lEYA"
      },
      "outputs": [],
      "source": [
        "# 5. Identify Column with Missing Data\n",
        "df_demo.isnull().sum()"
      ]
    },
    {
      "cell_type": "markdown",
      "metadata": {
        "id": "BMRXFrxKlF5_"
      },
      "source": [
        "\n",
        "From the Describe Data and Missing Data table above, we can summarize that:\n",
        " 1. The demographic data for refugee only available for year 2001 to year 2020.\n",
        " 2. These column with float64 data type is column with no data as these columns has 3844 missing value:\n",
        "> - Female 5-17\n",
        "> - f_other\n",
        "> - f_unknown\n",
        "> - Male 5-17\n",
        "> - m_other\n",
        "> - m_unknown\n",
        "\n",
        " 3. There are 20 Country of Origin where its ISO code is missing\n",
        " 4. 'Country of asylum' and 'Country of asylum (ISO)' column has 3844 count of '-' value. This means that these two columns has only '-' value for all row."
      ]
    },
    {
      "cell_type": "code",
      "execution_count": null,
      "metadata": {
        "id": "oL-1mlK1lI58"
      },
      "outputs": [],
      "source": [
        "# Investigate Further for Country of Origin (ISO) column\n",
        "df_demo[df_demo['Country of origin (ISO)'].isnull()]"
      ]
    },
    {
      "cell_type": "markdown",
      "metadata": {
        "id": "RAJzDCEilKn-"
      },
      "source": [
        "From the table above, we can conclude that for column 'Country of origin (ISO)', all value where is NaN belongs to Unknown Country of Origin"
      ]
    },
    {
      "cell_type": "markdown",
      "metadata": {
        "id": "VuGV5XjmlMwh"
      },
      "source": [
        "### Modify Data\n",
        "1. Sort Data by Country of Origin, then Year\n",
        "2. Dimensionality Reduction -> Drop Column that has no value to the analysis\n",
        "3. Remove Data where Country of Origin is unknown\n",
        "4. Data Normalization\n",
        "5. Splitting Data Set into Training set and Test set"
      ]
    },
    {
      "cell_type": "code",
      "execution_count": null,
      "metadata": {
        "id": "d2VebVFPlOy-"
      },
      "outputs": [],
      "source": [
        "# 1. Sort Data by Country of Origin, then Year\n",
        "df_demo_sorted = df_demo.sort_values(by=['Country of origin','Year'])"
      ]
    },
    {
      "cell_type": "code",
      "execution_count": null,
      "metadata": {
        "id": "CZYuV7hFlQMJ"
      },
      "outputs": [],
      "source": [
        "# 2. Dimensionality Reduction -> Drop Column that has no value to the analysis\n",
        "df_demo_reduced = df_demo_sorted.drop(['Country of asylum', 'Country of asylum (ISO)', 'Female 5 - 17', 'f_other', 'f_unknown', 'Male 5 - 17', 'm_other', 'm_unknown'], axis=1)\n",
        "df_demo_reduced.head(1)"
      ]
    },
    {
      "cell_type": "code",
      "execution_count": null,
      "metadata": {
        "id": "-FFIpuI5lRMz"
      },
      "outputs": [],
      "source": [
        "# 3. Remove Data where Country of Origin is null\n",
        "df_demo = df_demo_reduced.dropna(subset=['Country of origin (ISO)'])\n",
        "df_demo.isnull().sum()"
      ]
    },
    {
      "cell_type": "code",
      "execution_count": null,
      "metadata": {
        "id": "IrmQ-r0GlTVe"
      },
      "outputs": [],
      "source": [
        "print(f\"Total Rows After Cleaning : {len(df_demo)}\")"
      ]
    },
    {
      "cell_type": "code",
      "execution_count": null,
      "metadata": {
        "id": "Co1ivcxUlamh"
      },
      "outputs": [],
      "source": [
        "# 4. Data Normalization\n",
        "pd.set_option('mode.chained_assignment', None)\n",
        "\n",
        "mmScaler = MinMaxScaler()\n",
        "cols = ['Female 0 - 4', 'Female 5 - 11', 'Female 12 - 17', 'Female 18 - 59', 'Female 60', 'Male 0 - 4', 'Male 5 - 11', 'Male 12 - 17', 'Male 18 - 59', 'Male 60', 'Female total', 'Male total', 'Total']\n",
        "\n",
        "df_demominmax = df_demo\n",
        "df_demominmax[cols] = mmScaler.fit_transform(df_demo[cols])\n",
        "df_demominmax.describe()"
      ]
    },
    {
      "cell_type": "code",
      "execution_count": null,
      "metadata": {
        "id": "aeuUaIb8u1Mf"
      },
      "outputs": [],
      "source": [
        "df_demo.head()"
      ]
    },
    {
      "cell_type": "code",
      "execution_count": null,
      "metadata": {
        "id": "bvVYmCvXlcBX"
      },
      "outputs": [],
      "source": [
        "# 5. Splitting Data Set into Training set and Test set (training:testing ratio = 80:20 )\n",
        "training_data = df_demo.sample(frac=0.8, random_state=25)\n",
        "testing_data = df_demo.drop(training_data.index)\n",
        "\n",
        "print(f\"No. of training set: {training_data.shape[0]}\")\n",
        "print(f\"No. of testing set: {testing_data.shape[0]}\")"
      ]
    },
    {
      "cell_type": "code",
      "execution_count": null,
      "metadata": {
        "id": "Wf7rZoOV1QkS"
      },
      "outputs": [],
      "source": [
        "demographics_df = pd.read_csv(\"https://raw.githubusercontent.com/abbylmm/introdatascience/main/demographics_v1.csv\")\n",
        "\n",
        "# Clean mislabeled data for demographic levels\n",
        "\n",
        "demographics_columns = ['Female 0 - 4', 'Female 5 - 11', 'Female 12 - 17', 'Female 5 - 17', 'Female 18 - 59', 'Female 60', 'Female total',\n",
        "                        'Male 0 - 4', 'Male 5 - 11', 'Male 12 - 17', 'Male 5 - 17', 'Male 18 - 59', 'Male 60', 'Male total']\n",
        "\n",
        "for col in demographics_columns:\n",
        "    demographics_df[col] = demographics_df[col].fillna(0).replace('*', 0).astype(int)\n",
        "\n",
        "# Coalesce demographics with overlapping data\n",
        "\n",
        "demographics_df['Female 5 - 17'] = demographics_df[['Female 5 - 11', 'Female 5 - 17', 'Female 12 - 17']].sum(axis = 1)\n",
        "demographics_df['Male 5 - 17'] = demographics_df[['Male 5 - 11', 'Male 5 - 17', 'Male 12 - 17']].sum(axis = 1)\n",
        "\n",
        "cols_to_drop = ['Female 5 - 11', 'Female 12 - 17', 'Male 5 - 11', 'Male 12 - 17', 'Female total', 'Male total']\n",
        "\n",
        "demographics_df = demographics_df.drop(cols_to_drop, axis = 1)\n",
        "demographics_df = demographics_df.groupby(['Year', 'Country of asylum']).sum().reset_index()\n",
        "\n",
        "# Find countries with only one entry as you can't make a regression off of one entry\n",
        "\n",
        "for country in demographics_df['Country of asylum'].unique():\n",
        "    count = demographics_df[demographics_df['Country of asylum'] == country]['Country of asylum'].count()\n",
        "    if count == 1:\n",
        "        demographics_df = demographics_df[demographics_df['Country of asylum'] != country]\n",
        "\n",
        "# Rename some countries so that they can be geographically located for visualization\n",
        "\n",
        "country_replacement_dictionary = {'Central African Rep.': 'Central African Republic',\n",
        "                                  'China, Hong Kong SAR': 'Hong Kong',\n",
        "                                  'China, Macao SAR': 'Macao',\n",
        "                                  'Czech Rep.': 'Czech Republic',\n",
        "                                  'Dem. Rep. of the Congo': 'Democratic Republic of the Congo',\n",
        "                                  'Dominican Rep.': 'Dominican Republic',\n",
        "                                  'Georgia' : 'Republic of Georgia',\n",
        "                                  'Iran (Islamic Rep. of)': 'Iran',\n",
        "                                  'Micronesia (Federated States of)': 'Micronesia',\n",
        "                                  'Rep. of Korea': 'Republic of Korea',\n",
        "                                  'Rep. of Moldova': 'Republic of Maldova',\n",
        "                                  'Serbia and Kosovo (S/RES/1244 (1999))': 'Serbia and Kosovo',\n",
        "                                  'Sint Maarten (Dutch part)': 'Sint Maarten',\n",
        "                                  'Syrian Arab Rep.': 'Syrian Arab Republic',\n",
        "                                  'United Rep. of Tanzania': 'United Republic of Tanzania'\n",
        "                                 }\n",
        "\n",
        "for incorrect_name, correct_name in country_replacement_dictionary.items():\n",
        "    demographics_df['Country of asylum'] = demographics_df['Country of asylum'].replace(incorrect_name, correct_name)\n"
      ]
    },
    {
      "cell_type": "markdown",
      "metadata": {
        "id": "mbRwIfolOXcq"
      },
      "source": [
        "<a name=\"eda\"></a>\n",
        "## **5.0 Exploratory Data Analysis (EDA)**"
      ]
    },
    {
      "cell_type": "markdown",
      "metadata": {
        "id": "jGbfearoOiyu"
      },
      "source": [
        "<a name=\"5.1\"></a>\n",
        "## 5.1 Share of forcibly displaced individuals in 2020 (%), by category"
      ]
    },
    {
      "cell_type": "code",
      "source": [
        "df_pop_yr.head()\n"
      ],
      "metadata": {
        "id": "E2yGd1bctGGS"
      },
      "execution_count": null,
      "outputs": []
    },
    {
      "cell_type": "code",
      "execution_count": null,
      "metadata": {
        "id": "U-vRlI3oOXFM"
      },
      "outputs": [],
      "source": [
        "#isolate date from 2020\n",
        "df_pop_yr_2020 = df_pop_yr.loc[df_pop_yr['Year'] == 2020]\n",
        "\n",
        "#calculate percentage breakdown of each category\n",
        "total_2020=df_pop_yr_2020[\"Refugees under UNHCR's mandate\"].sum()+df_pop_yr_2020[\"Asylum-seekers\"].sum()+df_pop_yr_2020[\"IDPs of concern to UNHCR\"].sum()+df_pop_yr_2020[\"Stateless persons\"].sum()+df_pop_yr_2020[\"Venezuelans displaced abroad\"].sum()\n",
        "UNHCR_mandate_2020=round(df_pop_yr_2020[\"Refugees under UNHCR's mandate\"].sum()/total_2020*100,2)\n",
        "Asylum_2020=round(df_pop_yr_2020[\"Asylum-seekers\"].sum()/total_2020*100,2)\n",
        "IDP_2020=round(df_pop_yr_2020[\"IDPs of concern to UNHCR\"].sum()/total_2020*100,2)\n",
        "stateless_2020=round(df_pop_yr_2020[\"Stateless persons\"].sum()/total_2020*100,2)\n",
        "venezuelans_2020=round(df_pop_yr_2020[\"Venezuelans displaced abroad\"].sum()/total_2020*100,2)"
      ]
    },
    {
      "cell_type": "code",
      "execution_count": null,
      "metadata": {
        "id": "ph6SJbebOnbY"
      },
      "outputs": [],
      "source": [
        "labels = [\"Refugees under UNHCR's mandate %\", \"Asylum-seekers %\", \"IDPs of concern to UNHCR %\", \"Stateless persons %\", \"Venezuelans displaced abroad %\"]\n",
        "percentage = [UNHCR_mandate_2020, Asylum_2020, IDP_2020, stateless_2020, venezuelans_2020]\n",
        "#percentage = [25.38, 5.09, 59.65, 5.13, 4.74]\n",
        "colors = ['#FF0000', '#0000FF', '#FFFF00', '#ADFF2F', '#FFA500']\n",
        "explode = (0.05, 0.05, 0.05, 0.05, 0.05)\n",
        "\n",
        "plt.pie(percentage, colors=colors, labels=labels,\n",
        "        autopct='%1.2f%%', pctdistance=0.85,\n",
        "        explode=explode)\n",
        "centre_circle = plt.Circle((0, 0), 0.70, fc='white')\n",
        "fig = plt.gcf()\n",
        "fig.gca().add_artist(centre_circle)\n",
        "plt.title(\"Share of forcibly displaced individuals in 2020 (%), by category\", fontsize='20')\n",
        "# plt.legend(labels, loc=\"upper right\")\n",
        "plt.show()"
      ]
    },
    {
      "cell_type": "markdown",
      "metadata": {
        "id": "K7YL-usTYMOl"
      },
      "source": [
        "The pie chart above shows that IDPs are the largest group of refugees recorded in the dataset. Cross-border migration is never an easy journey, and most refugees cannot afford to travel across borders. There are also many illegal groups that charge exorbitant fees to transport refugees into another country illegally. Asylum seekers are among the smallest groups, as they are usually subject to stringent conditions and vetting during the application process. Venezuelans displaced abroad constitute a sizable group, given that they all come from the same country. In the following section, we will look into how each of these category numbers has changed over the last two decades."
      ]
    },
    {
      "cell_type": "markdown",
      "metadata": {
        "id": "gwHGl-p9OtB3"
      },
      "source": [
        "<a name=\"5.2\"></a>\n",
        "## 5.2 Trend of forcibly displaced individuals | 2001-2021"
      ]
    },
    {
      "cell_type": "code",
      "execution_count": null,
      "metadata": {
        "id": "_Mzl9nN7Oslj"
      },
      "outputs": [],
      "source": [
        "#identify population by country dataset for year greater than 2001\n",
        "df_pop_yr_1 = df_pop_yr.loc[df_pop_yr['Year'] >= 2001]\n",
        "\n",
        "#plot diagrams for each category\n",
        "fig, subs = plt.subplots(3, 2, figsize=(15,15))\n",
        "fig.suptitle(\"Total forcibly displaced individuals from 2001 to 2021\", fontsize='20')\n",
        "\n",
        "total_refugees_by_yr = df_pop_yr_1.groupby(\"Year\")[\"Refugees under UNHCR's mandate\"].sum().reset_index()\n",
        "total_asylum_by_yr = df_pop_yr_1.groupby(\"Year\")[\"Asylum-seekers\"].sum().reset_index()\n",
        "total_idp_by_yr = df_pop_yr_1.groupby(\"Year\")[\"IDPs of concern to UNHCR\"].sum().reset_index()\n",
        "total_stateless_by_yr = df_pop_yr_1.groupby(\"Year\")[\"Stateless persons\"].sum().reset_index()\n",
        "total_by_yr = df_pop_yr_1[\"Year\"].reset_index()\n",
        "total_by_yr[\"total\"]=total_refugees_by_yr[\"Refugees under UNHCR's mandate\"]+total_asylum_by_yr[\"Asylum-seekers\"]+total_idp_by_yr[\"IDPs of concern to UNHCR\"]+total_stateless_by_yr[\"Stateless persons\"]+total_venezuelans_by_yr[\"Venezuelans displaced abroad\"]\n",
        "\n",
        "total_refugees_by_yr.plot(kind=\"bar\", color='#4374B3', x=\"Year\", y=\"Refugees under UNHCR's mandate\", title=\"Refugees under UNHCR's mandate from 2001 to 2021\", ax=subs[0,0])\n",
        "total_asylum_by_yr.plot(kind=\"bar\", color='#4374B3', x=\"Year\", y=\"Asylum-seekers\", title=\"Asylum-seekers from 2001 to 2021\", ax=subs[0,1])\n",
        "total_idp_by_yr.plot(kind=\"bar\", color='#4374B3', x=\"Year\", y=\"IDPs of concern to UNHCR\", title=\"IDPs of concern to UNHCR from 2001 to 2021\", ax=subs[1,0])\n",
        "total_stateless_by_yr.plot(kind=\"bar\", color='#4374B3', x=\"Year\", y=\"Stateless persons\", title=\"Stateless persons from 2001 to 2021\", ax=subs[1,1])\n",
        "total_by_yr.plot(kind=\"bar\", color='#4374B3', x=\"Year\", y=\"total\", title=\"Total refugee displaced from 2001 to 2021\", ax=subs[2,0])\n",
        "\n",
        "plt.show()"
      ]
    },
    {
      "cell_type": "markdown",
      "metadata": {
        "id": "DKD9ZTVXS2Z2"
      },
      "source": [
        "Between year 2001 and 2012, and year 2017 to 2021, the number of refugees under UNHCR's mandate remained relatively stable. A possible explanation to why the number in 2017 to 2021 remain stable is bacuse the new category of Venezuelans displaced abroad is introduced in year 2018. The number has been seperated from the refugee under UNHCR's mandate. There is, however, a significant increase from year 2012 to 2017. This is a period of increasing conflict or war, particularly in Afghanistan, Syria, and Somalia.\n",
        "\n",
        "For asylum seekers, the number is relatively stable between year 2001 to 2012. Starting from 2012, the number of asylum seekers is showing a similar uptrends.\n",
        "\n",
        "For IDPs, there is a slight jump between year 2005 to 2006. This category also showing an uptrends from year 2012.\n",
        "\n",
        "For stateless person, there are three significant years that show a huge increase in number which is year 2006, 2008 and 2009. Other year showing a relatively stable uptrend.\n",
        "\n",
        "For Venezuelans displaced abroad, the category is only introduced in year 2018 and have shown an increasing trends since then.\n",
        "\n",
        "Overall, the total number of refugees is exhibiting similar behaviors to that of IDP number. We will take a further look into how these number compared to each other side by side.\n"
      ]
    },
    {
      "cell_type": "code",
      "execution_count": null,
      "metadata": {
        "id": "vBv4ybJIO1tj"
      },
      "outputs": [],
      "source": [
        "sns.set(rc={'figure.figsize':(20,10)})\n",
        "labels = np.arange(2001,2022)\n",
        "\n",
        "count = [np.array(total_refugees_by_yr[\"Refugees under UNHCR's mandate\"], dtype='<U8000'),\n",
        "         np.array(total_asylum_by_yr[\"Asylum-seekers\"], dtype='<U8000'),\n",
        "         np.array(total_idp_by_yr[\"IDPs of concern to UNHCR\"], dtype='<U8000'),\n",
        "         np.array(total_stateless_by_yr[\"Stateless persons\"], dtype='<U8000'),\n",
        "          np.array(total_by_yr[\"total\"], dtype='<U8000')]\n",
        "\n",
        "plt.bar(labels + 0.00, list(map(float, count[0])), align='edge', width=0.15, label=\"Refugees under UNHCR's mandate\")\n",
        "plt.bar(labels + 0.15, list(map(float, count[1])), align='edge', width=0.15, label=\"Asylum-seekers\")\n",
        "plt.bar(labels + 0.30, list(map(float, count[2])), align='edge', width=0.15, label=\"IDPs of concern to UNHCR\")\n",
        "plt.bar(labels + 0.45, list(map(float, count[3])), align='edge', width=0.15, label=\"Stateless persons\")\n",
        "plt.bar(labels + 0.6, list(map(float, count[4])), align='edge', width=0.15, label=\"Total Refugee\")\n",
        "plt.title(\"Comparison of forcibly displaced individuals from 2001 to 2021\", fontsize='20')\n",
        "plt.legend(fontsize='12')\n",
        "plt.show()"
      ]
    },
    {
      "cell_type": "markdown",
      "metadata": {
        "id": "aAQYLhQgZtMs"
      },
      "source": [
        "From the bar chart comparison, we can see that initially refugee under UNHCR's mandate dorminate the total number of refugee wordwide. However, IDP started to grow in number and overtake refugee under UNHCR's mandate in year 2006. Policy markers have to note the changes and cater their policies or aids more towards IDP group."
      ]
    },
    {
      "cell_type": "markdown",
      "metadata": {
        "id": "7OwmfMjqO5py"
      },
      "source": [
        "<a name=\"5.3\"></a>\n",
        "## 5.3 Top 3 origin countries and countries hosted largest number of refugees in 2020, by category"
      ]
    },
    {
      "cell_type": "code",
      "execution_count": null,
      "metadata": {
        "id": "dIg4YTgdO7yQ"
      },
      "outputs": [],
      "source": [
        "df_pop_country_2 = df_pop_country.loc[df_pop_country[\"Year\"] == 2020]\n",
        "\n",
        "fig, subs = plt.subplots(4, 2, figsize=(15,15))\n",
        "\n",
        "total_refugees_by_origin = round(df_pop_country_2.groupby(\"Country of origin\")[\"Refugees under UNHCR's mandate\"].sum()/1000000,2).reset_index().sort_values(\"Refugees under UNHCR's mandate\", ascending=False)\n",
        "total_asylum_by_origin = round(df_pop_country_2.groupby(\"Country of origin\")[\"Asylum-seekers\"].sum()/1000000,2).reset_index().sort_values(\"Asylum-seekers\", ascending=False)\n",
        "total_idp_by_origin = round(df_pop_country_2.groupby(\"Country of origin\")[\"IDPs of concern to UNHCR\"].sum()/1000000,2).reset_index().sort_values(\"IDPs of concern to UNHCR\", ascending=False)\n",
        "total_stateless_by_origin = round(df_pop_country_2.groupby(\"Country of origin\")[\"Stateless persons\"].sum()/1000000,2).reset_index().sort_values(\"Stateless persons\", ascending=False)\n",
        "total_refugees_by_asylum = round(df_pop_country_2.groupby(\"Country of asylum\")[\"Refugees under UNHCR's mandate\"].sum()/1000000,2).reset_index().sort_values(\"Refugees under UNHCR's mandate\", ascending=False)\n",
        "total_asylum_by_asylum = round(df_pop_country_2.groupby(\"Country of asylum\")[\"Asylum-seekers\"].sum()/1000000,2).reset_index().sort_values(\"Asylum-seekers\", ascending=False)\n",
        "total_idp_by_asylum = round(df_pop_country_2.groupby(\"Country of asylum\")[\"IDPs of concern to UNHCR\"].sum()/1000000,2).reset_index().sort_values(\"IDPs of concern to UNHCR\", ascending=False)\n",
        "total_stateless_by_asylum = round(df_pop_country_2.groupby(\"Country of asylum\")[\"Stateless persons\"].sum()/1000000,2).reset_index().sort_values(\"Stateless persons\", ascending=False)\n",
        "\n",
        "total_refugees_by_origin[:3].plot(kind=\"barh\", color=\"#69b3a2\", x=\"Country of origin\", y=\"Refugees under UNHCR's mandate\", title=\"Refugees by country of origin (in millions)\", ax=subs[0,0])\n",
        "total_asylum_by_origin[:3].plot(kind=\"barh\", color=\"#69b3a2\", x=\"Country of origin\", y=\"Asylum-seekers\", title=\"Asylum-seekers by country of origin (in millions)\", ax=subs[1,0])\n",
        "total_idp_by_origin[:3].plot(kind=\"barh\", color=\"#69b3a2\", x=\"Country of origin\", y=\"IDPs of concern to UNHCR\", title=\"IDPs of concern by country of origin (in millions)\", ax=subs[2,0])\n",
        "total_stateless_by_origin[:3].plot(kind=\"barh\", color=\"#69b3a2\", x=\"Country of origin\", y=\"Stateless persons\", title=\"Stateless persons by country of origin (in millions)\", ax=subs[3,0])\n",
        "total_refugees_by_asylum[:3].plot(kind=\"barh\", color=\"#4374B3\", x=\"Country of asylum\", y=\"Refugees under UNHCR's mandate\", title=\"Refugees by country of asylum (in millions)\", ax=subs[0,1])\n",
        "total_asylum_by_asylum[:3].plot(kind=\"barh\", color=\"#4374B3\", x=\"Country of asylum\", y=\"Asylum-seekers\", title=\"Asylum-seekers by country of asylum (in millions)\", ax=subs[1,1])\n",
        "total_idp_by_asylum[:3].plot(kind=\"barh\", color=\"#4374B3\", x=\"Country of asylum\", y=\"IDPs of concern to UNHCR\", title=\"IDPs of concern by country of asylum (in millions)\", ax=subs[2,1])\n",
        "total_stateless_by_asylum[:3].plot(kind=\"barh\", color=\"#4374B3\", x=\"Country of asylum\", y=\"Stateless persons\", title=\"Stateless persons by country of asylum (in millions)\", ax=subs[3,1])\n",
        "\n",
        "fig.suptitle(\"Top 3 origin countries and countries hosted largest number of refugees in 2020\", fontsize='20')\n",
        "plt.show()\n"
      ]
    },
    {
      "cell_type": "markdown",
      "metadata": {
        "id": "rnAsNPSYc2nS"
      },
      "source": [
        "For top country of origin of IDP, asylum seekers, and refugee under UNHCR's refugee includes Afganistan, Veneuzuela, Congo, Syria, Iraq, South Sudan and Colombia. Majority of these countries are badly affected by violence conflicts or even wars. Veneuzuela is a country that do not undergoe any war but badly affected by political repression. Veneuzuelans fled the country due to the government unfair treatment on those who opposed them.\n",
        "\n",
        "In terms of receiving country, Turkey continue to top the list. Due to Turkey's geographical locations, many refugees will stop by Turkey before attempting to corss into European region. Turkey is also in close proximity to war impact regions such as Syria, Iraq and Iran. Similarly, Pakistan is also receiving a lot of refugee coming from the neighbouring Afghanistan and Iran. While in America, Peru top the list with influx of Colombian and Venezuelans. United States of America provide protection to the most number of asylum seekers and upholding to their mission to protect human rights worldwide.\n"
      ]
    },
    {
      "cell_type": "markdown",
      "metadata": {
        "id": "snB7H7eIPBZy"
      },
      "source": [
        "<a name=\"5.4\"></a>\n",
        "## 5.4 Country of Origin | By Region | 2001-2021"
      ]
    },
    {
      "cell_type": "code",
      "execution_count": null,
      "metadata": {
        "id": "6plQfsWwPA8C"
      },
      "outputs": [],
      "source": [
        "iso_decode = pd.read_csv(\"https://raw.githubusercontent.com/lukes/ISO-3166-Countries-with-Regional-Codes/master/all/all.csv\")\n",
        "iso_decode_1 = iso_decode[[\"region\", \"alpha-3\"]]\n",
        "s = iso_decode_1.drop_duplicates(\"alpha-3\", keep=\"last\").set_index(\"alpha-3\")[\"region\"]\n",
        "\n",
        "df_pop_country_3 = df_pop_country.loc[df_pop_country[\"Year\"] >= 2001]\n",
        "df_pop_country_3[\"region\"] = df_pop_country_3[\"Country of origin (ISO)\"].map(s)\n",
        "df_pop_country_3[\"region\"].unique()"
      ]
    },
    {
      "cell_type": "code",
      "source": [
        "iso_decode.head()"
      ],
      "metadata": {
        "id": "DkK6aEHb9EiT"
      },
      "execution_count": null,
      "outputs": []
    },
    {
      "cell_type": "code",
      "execution_count": null,
      "metadata": {
        "id": "LHAH5sndPLiM"
      },
      "outputs": [],
      "source": [
        "fig, subs = plt.subplots(2, 2, figsize=(15,10))\n",
        "\n",
        "total_refugees_by_region_unstack = round(df_pop_country_3.groupby([\"Year\", \"region\"])[\"Refugees under UNHCR's mandate\"].sum()/1000000,2).unstack()\n",
        "total_asylum_by_region_unstack = round(df_pop_country_3.groupby([\"Year\", \"region\"])[\"Asylum-seekers\"].sum()/1000000,2).unstack()\n",
        "total_idp_by_region_unstack = round(df_pop_country_3.groupby([\"Year\", \"region\"])[\"IDPs of concern to UNHCR\"].sum()/1000000,2).unstack()\n",
        "total_stateless_by_region_unstack = round(df_pop_country_3.groupby([\"Year\", \"region\"])[\"Stateless persons\"].sum()/1000000,2).unstack()\n",
        "\n",
        "total_refugees_by_region_unstack.plot(kind=\"area\", y=[\"Africa\", \"Americas\", \"Asia\", \"Europe\", \"Oceania\"], title=\"Total Refugees by region (in millions)\", stacked=True, ax=subs[0,0])\n",
        "total_asylum_by_region_unstack.plot(kind=\"area\", y=[\"Africa\", \"Americas\", \"Asia\", \"Europe\", \"Oceania\"], title=\"Total Asylum-seekers by region (in millions)\", stacked=True, ax=subs[0,1])\n",
        "total_idp_by_region_unstack.plot(kind=\"area\", y=[\"Africa\", \"Americas\", \"Asia\", \"Europe\", \"Oceania\"], title=\"Total IDPs of concern by region (in millions)\", stacked=True, ax=subs[1,0])\n",
        "total_stateless_by_region_unstack.plot(kind=\"area\", y=[\"Africa\", \"Americas\", \"Asia\", \"Europe\", \"Oceania\"], title=\"Total Stateless persons by region (in millions)\", stacked=True, ax=subs[1,1])\n",
        "\n",
        "fig.suptitle(\"Refugees by regions of origin\", fontsize='20')\n",
        "plt.show()"
      ]
    },
    {
      "cell_type": "markdown",
      "metadata": {
        "id": "OoVpxJlFp9va"
      },
      "source": [
        "Majority of refugee comes from the Asia and African region. A potential region is that these region are impacted by wars and there is urgent need to leave the country immediately. There is no time to wait for asylum application to be approved.\n",
        "\n",
        "For Asylum seekers, there are mostly coming from Asia, African and American region. Europe is not on the list as the people are free to move about within the European region. There is also no conflict at all within this region.\n",
        "\n",
        "For IDP, the same three regions dominated the list."
      ]
    },
    {
      "cell_type": "markdown",
      "metadata": {
        "id": "KomlEWn3PPVq"
      },
      "source": [
        "<a name=\"5.5\"></a>\n",
        "## 5.5 Country of Asylum | By Region | 2001-2021"
      ]
    },
    {
      "cell_type": "code",
      "execution_count": null,
      "metadata": {
        "id": "GAVsCg-dPSEl"
      },
      "outputs": [],
      "source": [
        "df_pop_country_4 = df_pop_country.loc[df_pop_country[\"Year\"] >= 2001]\n",
        "df_pop_country_4[\"region\"] = df_pop_country_3[\"Country of asylum (ISO)\"].map(s)\n",
        "df_pop_country_4[\"region\"].unique()"
      ]
    },
    {
      "cell_type": "code",
      "execution_count": null,
      "metadata": {
        "id": "qhcO_uK1PWRf"
      },
      "outputs": [],
      "source": [
        "fig, subs = plt.subplots(2, 2, figsize=(15,10))\n",
        "\n",
        "total_refugees_by_region_unstack = round(df_pop_country_4.groupby([\"Year\", \"region\"])[\"Refugees under UNHCR's mandate\"].sum()/1000000,2).unstack()\n",
        "total_asylum_by_region_unstack = round(df_pop_country_4.groupby([\"Year\", \"region\"])[\"Asylum-seekers\"].sum()/1000000,2).unstack()\n",
        "total_idp_by_region_unstack = round(df_pop_country_4.groupby([\"Year\", \"region\"])[\"IDPs of concern to UNHCR\"].sum()/1000000,2).unstack()\n",
        "total_stateless_by_region_unstack = round(df_pop_country_4.groupby([\"Year\", \"region\"])[\"Stateless persons\"].sum()/1000000,2).unstack()\n",
        "\n",
        "total_refugees_by_region_unstack.plot(kind=\"area\", y=[\"Africa\", \"Americas\", \"Asia\", \"Europe\", \"Oceania\"], title=\"Total Refugees by region (in millions)\", stacked=True, ax=subs[0,0])\n",
        "total_asylum_by_region_unstack.plot(kind=\"area\", y=[\"Africa\", \"Americas\", \"Asia\", \"Europe\", \"Oceania\"], title=\"Total Asylum-seekers by region (in millions)\", stacked=True, ax=subs[0,1])\n",
        "total_idp_by_region_unstack.plot(kind=\"area\", y=[\"Africa\", \"Americas\", \"Asia\", \"Europe\", \"Oceania\"], title=\"Total IDPs of concern by region (in millions)\", stacked=True, ax=subs[1,0])\n",
        "total_stateless_by_region_unstack.plot(kind=\"area\", y=[\"Africa\", \"Americas\", \"Asia\", \"Europe\", \"Oceania\"], title=\"Total Stateless persons by region (in millions)\", stacked=True, ax=subs[1,1])\n",
        "\n",
        "fig.suptitle(\"Refugees by regions of asylum\", fontsize='20')\n",
        "plt.show()"
      ]
    },
    {
      "cell_type": "markdown",
      "metadata": {
        "id": "6A6IHNcHr_Qu"
      },
      "source": [
        "Similar to region of origin, most refugee will fled to the nearby countries in Asia and Africa. However, Europe is also a popular choice. This is due the number of refugee accepted by Turkey which is considered to be in the European region.\n",
        "\n",
        "For Asylum seekers, there is quite a balance in the receiving region. America dominate the list as USA is accepting the most asylum seekers in the world.\n",
        "\n",
        "For stateless person, there are mostly accepeted in the Asia region."
      ]
    },
    {
      "cell_type": "markdown",
      "metadata": {
        "id": "idxxl1fCs5Jr"
      },
      "source": [
        "<a name=\"5.6\"></a>\n",
        "## 5.6 Trend of Acceptance Rate and Gender Ratio | 2001-2021"
      ]
    },
    {
      "cell_type": "code",
      "source": [
        "iso_decode.head(5)\n",
        "df_decision.head(5)"
      ],
      "metadata": {
        "id": "WG_Llo98YGXm"
      },
      "execution_count": null,
      "outputs": []
    },
    {
      "cell_type": "code",
      "execution_count": null,
      "metadata": {
        "id": "AMXvAwr0PcDL"
      },
      "outputs": [],
      "source": [
        "iso_decode_2 = iso_decode[[\"sub-region\", \"alpha-3\"]]\n",
        "s2 = iso_decode_2.drop_duplicates(\"alpha-3\", keep=\"last\").set_index(\"alpha-3\")[\"sub-region\"]\n",
        "\n",
        "df_decision_1 = df_decision.loc[df_decision[\"Year\"] >= 2001]\n",
        "df_decision_1[\"sub-region\"] = df_decision_1[\"Country of origin (ISO)\"].map(s2)\n",
        "df_decision_2 = df_decision_1.loc[df_decision_1[\"Cases / Persons\"] == \"Persons\"]\n",
        "\n",
        "df_decision_2[\"acceptance_rate\"] = round((1 - (df_decision_2[\"Rejected decisions\"] / df_decision_2[\"Total decisions\"])) * 100, 2)\n",
        "avg_acceptance_rate = round(df_decision_2.groupby([\"Year\", \"sub-region\", \"Country of origin (ISO)\"])[\"acceptance_rate\"].mean(),2)\n",
        "df_acceptance_rate = pd.DataFrame(avg_acceptance_rate).reset_index()\n"
      ]
    },
    {
      "cell_type": "code",
      "execution_count": null,
      "metadata": {
        "id": "1guloo_mkU5S"
      },
      "outputs": [],
      "source": [
        "df_acceptance_rate"
      ]
    },
    {
      "cell_type": "code",
      "execution_count": null,
      "metadata": {
        "id": "BOIbL0NQPeW_"
      },
      "outputs": [],
      "source": [
        "df_demo_1 = df_demo_reduced.loc[df_demo_reduced[\"Year\"] >= 2001]\n",
        "df_demo_2 = df_demo_1.merge(df_acceptance_rate, on=[\"Year\", \"Country of origin (ISO)\"], how='left')\n",
        "df_demo_2.dropna(subset = [\"sub-region\", \"Country of origin (ISO)\", \"acceptance_rate\"], inplace=True)\n",
        "df_demo_2.info()"
      ]
    },
    {
      "cell_type": "markdown",
      "metadata": {
        "id": "BMc8dGSgPgvg"
      },
      "source": [
        "* Gender ratio is usually expressed as the number of males in every 100 females\n",
        "* r=(m/f)×100"
      ]
    },
    {
      "cell_type": "code",
      "execution_count": null,
      "metadata": {
        "id": "yF9BP1wdPllL"
      },
      "outputs": [],
      "source": [
        "df_demo_2[\"gender_ratio\"] = (df_demo_2[\"Male total\"] / df_demo_2[\"Female total\"]) * 100\n",
        "df_demo_2[\"gender_ratio\"][(df_demo_2[\"gender_ratio\"] == inf) | (df_demo_2[\"gender_ratio\"].isnull())] = 0\n",
        "df_demo_2.sample(5)"
      ]
    },
    {
      "cell_type": "code",
      "execution_count": null,
      "metadata": {
        "id": "Kh6jZs55H3lR"
      },
      "outputs": [],
      "source": [
        "avg_yrly_accept_gender = df_demo_2.groupby([\"Year\"])[[\"acceptance_rate\", \"gender_ratio\"]].mean().reset_index()\n",
        "\n",
        "plt.rcParams[\"figure.figsize\"] = [10, 5]\n",
        "plt.rcParams[\"figure.autolayout\"] = True\n",
        "\n",
        "labels = np.arange(2001,2021)\n",
        "default_x_ticks = range(len(labels))\n",
        "\n",
        "fig, ax = plt.subplots()\n",
        "\n",
        "avg_yrly_accept_gender['gender_ratio'].plot(kind='bar', color='#69b3a2', label=\"Gender Ratio\")\n",
        "avg_yrly_accept_gender['acceptance_rate'].plot(kind='line', marker='*', color='black', ms=10, label=\"Acceptance Rate\")\n",
        "\n",
        "fig.suptitle(\"Trend of refugees' acceptance rate and gender ratio\", fontsize='20')\n",
        "plt.xlabel(\"Year\")\n",
        "plt.xticks(default_x_ticks, labels)\n",
        "plt.legend()\n",
        "plt.show()"
      ]
    },
    {
      "cell_type": "markdown",
      "metadata": {
        "id": "C0JLjLBatxTQ"
      },
      "source": [
        "Based on the graph plotted, there seems to be a small coreelation between acceptance rate and gender ratio. As ratio of male increases, the accptance rate of refugee into the country increases slightly. We shall investigate further to confirm the relationship."
      ]
    },
    {
      "cell_type": "code",
      "execution_count": null,
      "metadata": {
        "id": "DgrGj7InIYH_"
      },
      "outputs": [],
      "source": [
        "avg_sub_region = df_demo_2.groupby([\"sub-region\"])[[\"acceptance_rate\", \"gender_ratio\"]].mean().reset_index()\n",
        "avg_sub_region.sort_values(by=\"gender_ratio\", ascending=False)\n",
        "\n",
        "c = sorted(avg_sub_region[\"acceptance_rate\"])\n",
        "normal = avg_sub_region[\"acceptance_rate\"] / avg_sub_region[\"acceptance_rate\"].max()\n",
        "\n",
        "plt.figure(figsize=(10, 10))\n",
        "plt.scatter(avg_sub_region[\"gender_ratio\"], avg_sub_region[\"acceptance_rate\"], c=c, alpha=0.5, s=normal * 2000)\n",
        "\n",
        "plt.xlabel(\"Gender Ratio\", size=14)\n",
        "plt.ylabel(\"Acceptance Rate\", size=14)\n",
        "plt.title(\"Relationship of refugees' acceptance rate and gender equality\", fontsize='20')\n"
      ]
    },
    {
      "cell_type": "markdown",
      "metadata": {
        "id": "e82pm4jjul9O"
      },
      "source": [
        "From the diagram, when there is more male than female, the acceptance rate increases significantly. A possible cause is that woman are seems to be weaker and not able to contribute to the host country. They deem to be a burden while male can be a useful workforce to help boost the host country's economy."
      ]
    },
    {
      "cell_type": "markdown",
      "metadata": {
        "id": "TIjiuGiSPrxH"
      },
      "source": [
        "<a name=\"5.7\"></a>\n",
        "## 5.7 Refugees population growth (by gender and age) | 2001-2021"
      ]
    },
    {
      "cell_type": "code",
      "execution_count": null,
      "metadata": {
        "id": "tRiXxDbPPrZ6"
      },
      "outputs": [],
      "source": [
        "sum_gender = df_demo_reduced.groupby([\"Year\"])[[\"Female 0 - 4\", \"Female 5 - 11\", \"Female 12 - 17\", \"Female 18 - 59\", \"Female 60\", \"Male 0 - 4\", \"Male 5 - 11\", \"Male 12 - 17\", \"Male 18 - 59\", \"Male 60\"]].sum()/1000000\n",
        "df_demo_gender = pd.DataFrame(sum_gender).reset_index()\n",
        "\n",
        "sns.set(rc = {'figure.figsize':(10,5)})\n",
        "\n",
        "plt.plot(df_demo_gender.Year, df_demo_gender[\"Female 0 - 4\"], label=\"Female 0 - 4\")\n",
        "plt.plot(df_demo_gender.Year, df_demo_gender[\"Female 5 - 11\"], label=\"Female 5 - 11\")\n",
        "plt.plot(df_demo_gender.Year, df_demo_gender[\"Female 12 - 17\"], label=\"Female 12 - 17\")\n",
        "plt.plot(df_demo_gender.Year, df_demo_gender[\"Female 18 - 59\"], label=\"Female 18 - 59\")\n",
        "plt.plot(df_demo_gender.Year, df_demo_gender[\"Female 60\"], label=\"Female 60\")\n",
        "plt.plot(df_demo_gender.Year, df_demo_gender[\"Male 0 - 4\"], label=\"Male 0 - 4\")\n",
        "plt.plot(df_demo_gender.Year, df_demo_gender[\"Male 5 - 11\"], label=\"Male 5 - 11\")\n",
        "plt.plot(df_demo_gender.Year, df_demo_gender[\"Male 12 - 17\"], label=\"Male 12 - 17\")\n",
        "plt.plot(df_demo_gender.Year, df_demo_gender[\"Male 18 - 59\"], label=\"Male 18 - 59\")\n",
        "plt.plot(df_demo_gender.Year, df_demo_gender[\"Male 60\"], label=\"Male 60\")\n",
        "\n",
        "plt.legend(loc=\"best\")\n",
        "plt.xlabel(\"Year\")\n",
        "plt.ylabel(\"Refugees Population (in millions)\")\n",
        "plt.title(\"Refugees population growth from 2001 to 2021\", fontsize='20')\n",
        "plt.show()\n"
      ]
    },
    {
      "cell_type": "markdown",
      "metadata": {
        "id": "PdqKA81jvOAK"
      },
      "source": [
        "All the age group exihibit similar trends regardless of gender. From the line chart, we can see that majority of the refugee population coming from the 18 to 59 age group. The big gap with the other age group is of course due to there is generally more population in the 18 to 59 age group. When combining the age group of 0 to 17, the figure is just slightly less than 18 to 59 group.\n",
        "\n",
        "The above 60 years old remians as the minority. Due to poor living condition, the average age of refugee generally do not exceed 60 years old. On top of that, aged population are having great difficulties in fleeding their country. The journey are long, dangerous and tiring. Most aged people will not be able to handle such situation.\n",
        "\n",
        "Young age group is considered as the hope of the family and they generally will be given the priority to fled the country if there is any opportunity."
      ]
    },
    {
      "cell_type": "markdown",
      "source": [
        "<a name=\"5.8\"></a>\n",
        "## 5.8 Refugee Age Group Percentage"
      ],
      "metadata": {
        "id": "nv_ObyP1IyvH"
      }
    },
    {
      "cell_type": "code",
      "source": [
        "df_demo_eda = df_demo\n",
        "df_demo_eda['childTotal'] = df_demo[['Female 0 - 4', 'Female 5 - 11', 'Female 12 - 17', 'Male 0 - 4', 'Male 5 - 11', 'Male 12 - 17' ]].sum(axis=1)\n",
        "df_demo_eda['adultTotal'] = df_demo[['Female 18 - 59', 'Male 18 - 59']].sum(axis=1)\n",
        "df_demo_eda['seniorTotal'] = df_demo[['Female 60', 'Male 60']].sum(axis=1)\n",
        "df_demo_byYear = df_demo_eda.groupby('Year').sum()\n",
        "df_demo_byYear['child'] = (df_demo_byYear['childTotal']/(df_demo_byYear['childTotal'] + df_demo_byYear['adultTotal'] + df_demo_byYear['seniorTotal'])) * 100\n",
        "df_demo_byYear['adult'] = (df_demo_byYear['adultTotal']/(df_demo_byYear['childTotal'] + df_demo_byYear['adultTotal'] + df_demo_byYear['seniorTotal'])) * 100\n",
        "df_demo_byYear['senior'] = (df_demo_byYear['seniorTotal']/(df_demo_byYear['childTotal'] + df_demo_byYear['adultTotal'] + df_demo_byYear['seniorTotal'])) * 100\n",
        "df_demo_byYear[['child','adult','senior']].plot(kind='barh', stacked=True, title='Refugee Age Group Percentage')\n",
        "#df_demo_byYear"
      ],
      "metadata": {
        "id": "o0W9xY7GI2bK"
      },
      "execution_count": null,
      "outputs": []
    },
    {
      "cell_type": "markdown",
      "source": [
        "<a name=\"test\"></a>\n",
        "## **6.0 Test Statistics**"
      ],
      "metadata": {
        "id": "s-aAuCYmUjLq"
      }
    },
    {
      "cell_type": "markdown",
      "metadata": {
        "id": "7BmdaSK5F_Dc"
      },
      "source": [
        "<a name=\"6.1\"></a>\n",
        "## 6.1 Test Statistics for Recognized Decisions and Rejected Decisions\n",
        "\n",
        "In this section, the test the significant different means for dependent variables of recognized decisions and rejected decisions.\n",
        "\n",
        "- **`Alternative Hypothesis`**: The mean of recognized decision for refugees application is greater than rejected decision.\n",
        "- **`Null Hypothesis`**: The mean of recognized decision for refugees application is less than rejected decision.\n",
        "\n"
      ]
    },
    {
      "cell_type": "code",
      "execution_count": null,
      "metadata": {
        "id": "r1IHK9ihJS8y"
      },
      "outputs": [],
      "source": [
        "df_decision.shape"
      ]
    },
    {
      "cell_type": "code",
      "execution_count": null,
      "metadata": {
        "id": "-jBZgJKaHCPj"
      },
      "outputs": [],
      "source": [
        "import pandas as pd\n",
        "from scipy.stats import ttest_rel\n",
        "\n",
        "a = df_decision['Recognized decisions']\n",
        "b = df_decision['Rejected decisions']\n",
        "t, p = ttest_rel(a,b)\n",
        "print ('t-statistics:',t)\n",
        "print ('p-value:',p)\n",
        "print()\n",
        "\n",
        "if p < 0.05:\n",
        "    print('We are rejecting the null hypothesis')\n",
        "    print('Conclusion: The mean of recognized decision for refugees application is greater than rejected decision.')\n",
        "else:\n",
        "    print('We are accepting the null hypothesis')\n",
        "    print('Conclusion: The mean of recognized decision for refugees application is less than rejected decision.' )"
      ]
    },
    {
      "cell_type": "markdown",
      "source": [
        "Based on this t-test statistics results above, we can conclude that the recognized decision of refugees application for protection is higher than the rejected decision. This means that most region have provide the protection for refugees rather than reject them."
      ],
      "metadata": {
        "id": "pzbb5AsSWk6w"
      }
    },
    {
      "cell_type": "markdown",
      "metadata": {
        "id": "tNB_eOwgk7ht"
      },
      "source": [
        "<a name=\"6.2\"></a>\n",
        "## 6.2 Test Statistics for Gender in Total Refugees"
      ]
    },
    {
      "cell_type": "markdown",
      "metadata": {
        "id": "YmKEaJr_nPCq"
      },
      "source": [
        "Test statistics for gender to identify the significant different in mean.\n",
        "\n",
        "- **`Alternative Hypothesis`**: The mean of female refugees is greater than male refugees\n",
        "- **`Null Hypothesis`**: The mean of female refugees is less than male refugees"
      ]
    },
    {
      "cell_type": "code",
      "execution_count": null,
      "metadata": {
        "id": "e5ApD-lgkESg"
      },
      "outputs": [],
      "source": [
        "a1 = df_demo_reduced['Female total']\n",
        "b1 = df_demo_reduced['Male total']\n",
        "t, p = ttest_rel(a1,b1)\n",
        "print ('t-statistics:',t)\n",
        "print ('p-value:',p)\n",
        "print()\n",
        "\n",
        "if p < 0.05:\n",
        "    print('We are rejecting the null hypothesis')\n",
        "    print('Conclusion: The mean of female refugees is greater than male refugees')\n",
        "else:\n",
        "    print('We are accepting the null hypothesis')\n",
        "    print('Conclusion: The mean of female refugees is less than male refugees' )"
      ]
    },
    {
      "cell_type": "markdown",
      "source": [
        "Based on this t-test statistics results above, we can conclude that the number of female refugees is greater than the male refugees."
      ],
      "metadata": {
        "id": "qHl4yfYKPGxy"
      }
    },
    {
      "cell_type": "markdown",
      "metadata": {
        "id": "_qKHqPUB0e6j"
      },
      "source": [
        "<a name=\"modelling\"></a>\n",
        "## **7.0 Modelling**"
      ]
    },
    {
      "cell_type": "markdown",
      "source": [
        "<a name=\"7.1\"></a>\n",
        "## 7.1 Global Displacement Trends in 2025"
      ],
      "metadata": {
        "id": "DXsYOjBWGNeU"
      }
    },
    {
      "cell_type": "code",
      "execution_count": null,
      "metadata": {
        "id": "V_2_aK0u1mKi"
      },
      "outputs": [],
      "source": [
        "def specify_country(dataframe_input, country):\n",
        "    '''This is utilized to filter a dataset across all countries to one specific one.\n",
        "    '''\n",
        "    dataframe_output = dataframe_input[dataframe_input['Country of asylum'] == country]\n",
        "    return dataframe_output\n",
        "\n",
        "def lin_reg(dataframe_input, total, test_size):\n",
        "    '''This builds the linear regression model for a specific dataset.\n",
        "    First it converts x and y data to numpy arrays and then creates a linear regression model.\n",
        "    Methodology based on [5].\n",
        "    '''\n",
        "    x_data = country_specified_dataframe['Year'].values.reshape(-1, 1)\n",
        "    y_data = country_specified_dataframe[total].values.reshape(-1, 1)\n",
        "\n",
        "    # create training and testing datasets, pick a small test_size as there isn't a lot of data\n",
        "    x_train, x_test, y_train, y_test = train_test_split(x_data, y_data, test_size = test_size)\n",
        "\n",
        "    # create linear regression object\n",
        "    lr = linear_model.LinearRegression()\n",
        "    lr.fit(x_train, y_train)\n",
        "    y_pred = lr.predict(x_test)\n",
        "\n",
        "    linear_regression_list = [lr.coef_[0][0], lr.intercept_[0], test_size, r2_score(y_test, y_pred)]\n",
        "\n",
        "    return linear_regression_list\n",
        "\n",
        "def get_max_r_squared(dataframe_input, total, country):\n",
        "    '''This is used to iterate over different test_sizes for train/test/split such that we can get a max R squared value.\n",
        "    '''\n",
        "    cols_max_r2 = ['coefficient', 'intercept', 'test_size', 'r_squared']\n",
        "    appended_data = []\n",
        "    test_size_range = np.linspace(0.01, 0.3, 100, endpoint = False)\n",
        "\n",
        "    for i in test_size_range:\n",
        "        appended_data.append(lin_reg(dataframe_input = dataframe_input, total = total, test_size = i))\n",
        "\n",
        "    r2_df = pd.DataFrame(appended_data, columns = cols_max_r2)\n",
        "\n",
        "    max_r2 = r2_df[r2_df['r_squared'] == r2_df['r_squared'].max()].reset_index(drop = True).iloc[:1]\n",
        "    max_r2['total'] = total\n",
        "    max_r2['country'] = country\n",
        "    max_r2 = max_r2[['country', 'total', 'coefficient', 'intercept', 'test_size', 'r_squared']]\n",
        "    return max_r2"
      ]
    },
    {
      "cell_type": "code",
      "execution_count": null,
      "metadata": {
        "id": "wUqk-Pbq1nHV",
        "outputId": "77e1eaa7-2592-4a76-e344-c024003bfa29",
        "colab": {
          "base_uri": "https://localhost:8080/",
          "height": 244
        }
      },
      "outputs": [
        {
          "output_type": "error",
          "ename": "NameError",
          "evalue": "ignored",
          "traceback": [
            "\u001b[0;31m---------------------------------------------------------------------------\u001b[0m",
            "\u001b[0;31mNameError\u001b[0m                                 Traceback (most recent call last)",
            "\u001b[0;32m<ipython-input-1-9468a81e1fa5>\u001b[0m in \u001b[0;36m<module>\u001b[0;34m\u001b[0m\n\u001b[1;32m      1\u001b[0m \u001b[0;31m# list of countries\u001b[0m\u001b[0;34m\u001b[0m\u001b[0;34m\u001b[0m\u001b[0;34m\u001b[0m\u001b[0m\n\u001b[0;32m----> 2\u001b[0;31m \u001b[0mfull_country_list\u001b[0m \u001b[0;34m=\u001b[0m \u001b[0mdemographics_df\u001b[0m\u001b[0;34m[\u001b[0m\u001b[0;34m'Country of asylum'\u001b[0m\u001b[0;34m]\u001b[0m\u001b[0;34m.\u001b[0m\u001b[0msort_values\u001b[0m\u001b[0;34m(\u001b[0m\u001b[0;34m)\u001b[0m\u001b[0;34m.\u001b[0m\u001b[0munique\u001b[0m\u001b[0;34m(\u001b[0m\u001b[0;34m)\u001b[0m\u001b[0;34m\u001b[0m\u001b[0;34m\u001b[0m\u001b[0m\n\u001b[0m\u001b[1;32m      3\u001b[0m \u001b[0mtotal_list\u001b[0m \u001b[0;34m=\u001b[0m \u001b[0mpd\u001b[0m\u001b[0;34m.\u001b[0m\u001b[0mDataFrame\u001b[0m\u001b[0;34m(\u001b[0m\u001b[0;34m{\u001b[0m\u001b[0;34m'Total'\u001b[0m\u001b[0;34m:\u001b[0m \u001b[0;34m[\u001b[0m\u001b[0;34m'Total'\u001b[0m\u001b[0;34m]\u001b[0m\u001b[0;34m}\u001b[0m\u001b[0;34m)\u001b[0m\u001b[0;34m\u001b[0m\u001b[0;34m\u001b[0m\u001b[0m\n\u001b[1;32m      4\u001b[0m \u001b[0mcols_final_df\u001b[0m \u001b[0;34m=\u001b[0m \u001b[0;34m[\u001b[0m\u001b[0;34m'country'\u001b[0m\u001b[0;34m,\u001b[0m \u001b[0;34m'Total'\u001b[0m\u001b[0;34m,\u001b[0m \u001b[0;34m'coefficient'\u001b[0m\u001b[0;34m,\u001b[0m \u001b[0;34m'intercept'\u001b[0m\u001b[0;34m,\u001b[0m \u001b[0;34m'test_size'\u001b[0m\u001b[0;34m,\u001b[0m \u001b[0;34m'r_squared'\u001b[0m\u001b[0;34m]\u001b[0m\u001b[0;34m\u001b[0m\u001b[0;34m\u001b[0m\u001b[0m\n\u001b[1;32m      5\u001b[0m \u001b[0mlin_reg_list\u001b[0m \u001b[0;34m=\u001b[0m\u001b[0;34m[\u001b[0m\u001b[0;34m]\u001b[0m\u001b[0;34m\u001b[0m\u001b[0;34m\u001b[0m\u001b[0m\n",
            "\u001b[0;31mNameError\u001b[0m: name 'demographics_df' is not defined"
          ]
        }
      ],
      "source": [
        "# list of countries\n",
        "full_country_list = demographics_df['Country of asylum'].sort_values().unique()\n",
        "total_list = pd.DataFrame({'Total': ['Total']})\n",
        "cols_final_df = ['country', 'Total', 'coefficient', 'intercept', 'test_size', 'r_squared']\n",
        "lin_reg_list =[]\n",
        "\n",
        "# iterate over each country and total in dataframes\n",
        "for country in full_country_list:\n",
        "    for n in total_list['Total']:\n",
        "        country_specified_dataframe = specify_country(demographics_df, country)\n",
        "        lin_reg_object = get_max_r_squared(country_specified_dataframe, n, country)\n",
        "        lin_reg_list.append(lin_reg_object)\n",
        "\n",
        "overall_table_regression = pd.concat(lin_reg_list, ignore_index = True)\n",
        "overall_table_regression['total'] = pd.Categorical(overall_table_regression['total'], categories = ['Total'])\n",
        "overall_table_regression = overall_table_regression.sort_values(by = ['country', 'total']).reset_index(drop = True)"
      ]
    },
    {
      "cell_type": "code",
      "source": [
        "overall_table_regression.sample(5)"
      ],
      "metadata": {
        "id": "eoHqjxYpxZVD"
      },
      "execution_count": null,
      "outputs": []
    },
    {
      "cell_type": "markdown",
      "source": [
        "Simple Linear Regression was utilized across all countries and total refugee population, R-squared was maximized to get the best fit.\n",
        "\n",
        "Including country and total refugee population, linear regression object values and geographic locations."
      ],
      "metadata": {
        "id": "6rutZwe-0nFw"
      }
    },
    {
      "cell_type": "code",
      "execution_count": null,
      "metadata": {
        "id": "AZ2BS1_e1wjd"
      },
      "outputs": [],
      "source": [
        "def do_geocode(address):\n",
        "    '''Recursive function to pull location data associated with address input\n",
        "    '''\n",
        "    # set geolocator object\n",
        "    geolocator = Nominatim(user_agent = 'GeoNames')\n",
        "\n",
        "    try:\n",
        "        location = geolocator.geocode(address)\n",
        "        return np.array([address, location.latitude, location.longitude])\n",
        "    except GeocoderTimedOut:\n",
        "        return do_geocode(address)\n",
        "\n",
        "def generate_map(dataframe, total, year):\n",
        "    '''This plots a logarithmically scaled colorscale of the number of displaced people from each country\n",
        "    in the dataframe, with a scale of blue (few displaced individuals) to red (many displaced individuals).\n",
        "    This does not plot points at all for countries that are predicting a negative number of displaced\n",
        "    individuals.\n",
        "    '''\n",
        "    map_df = dataframe[dataframe['total'] == total]\n",
        "    displacement_map = folium.Map([37.421000, 15.087858],\n",
        "                                  zoom_start = 2,\n",
        "                                  tiles = 'CartoDB dark_matter')\n",
        "    for index, row in map_df.iterrows():\n",
        "        prediction = (row['coefficient'] * year) + row['intercept']\n",
        "        popup_text = '{}, {}: {}'.format(row['country'], year, str(int(round((row['coefficient'] * year) + row['intercept']))))\n",
        "        # logarithmic scale of color markers\n",
        "        if 0 <= prediction < 1000:\n",
        "            folium.CircleMarker(location = (row['latitude'], row['longitude']), color = '#01007A', popup = folium.Popup(popup_text, parse_html = True), fill = True, fill_opacity = 0.7, radius = 3.66).add_to(displacement_map)\n",
        "        elif 1000 <= prediction < 10000:\n",
        "            folium.CircleMarker(location = (row['latitude'], row['longitude']), color = '#540161', popup = folium.Popup(popup_text, parse_html = True), fill = True, fill_opacity = 0.7, radius = 4).add_to(displacement_map)\n",
        "        elif 10000 <= prediction < 100000:\n",
        "            folium.CircleMarker(location = (row['latitude'], row['longitude']), color = 'yellow', popup = folium.Popup(popup_text, parse_html = True), fill = True, fill_opacity = 0.7, radius = 4.33).add_to(displacement_map)\n",
        "        elif 100000 <= prediction < 1000000:\n",
        "            folium.CircleMarker(location = (row['latitude'], row['longitude']), color = 'orange', popup = folium.Popup(popup_text, parse_html = True), fill = True, fill_opacity = 0.7, radius = 4.66).add_to(displacement_map)\n",
        "        elif 1000000 <= prediction < 10000000:\n",
        "            folium.CircleMarker(location = (row['latitude'], row['longitude']), color = 'red', popup = folium.Popup(popup_text, parse_html = True), fill = True, fill_opacity = 0.7, radius = 5).add_to(displacement_map)\n",
        "    return displacement_map"
      ]
    },
    {
      "cell_type": "code",
      "execution_count": null,
      "metadata": {
        "id": "o970vp0PAOoI"
      },
      "outputs": [],
      "source": [
        "geocode_df = pd.read_csv(\"https://raw.githubusercontent.com/oughton/geocode/master/example/result.csv\", header = None)\n",
        "geocode_df.rename(columns=({0: 'country', 1: 'latitude', 2: 'longitude'}), inplace=True)\n",
        "\n",
        "overall_table_regression_1 = overall_table_regression.merge(geocode_df, how = 'left', on = 'country')\n",
        "overall_table_regression_1.dropna(subset = [\"latitude\", \"longitude\"], inplace=True)\n",
        "generate_map(overall_table_regression_1, 'Total', 2025)"
      ]
    },
    {
      "cell_type": "markdown",
      "source": [
        "Objective: To predict the number of refugees in total population size to better prepare for necessary services to support them.\n",
        "\n",
        "Observation: In 2025, total refugee population trends vary widely between countries. Refugees primarily being displaced in parts of:\n",
        "* Sub-Saharan Africa - e.g.South Sudan, Sudan, Ethiopia, Uganda, Somalia\n",
        "\n",
        "South Sudan Refugee Crisis - It's the largest refugee crisis in Africa, and third largest in the world after Syria and Afghanistan. Many of them have fled to neighbour countries such as Uganda and Sudan. Sadly, majority of them are women and children and they are the survivors of violent attacks, sexual assault, and in many cases, children are traveling alone.\n",
        "\n",
        "* Middle East - e.g.Jordan, Lebanon, Iraq, Yemen\n",
        "* Europe (Germany) - Prior to 2015, the number of people applying for asylum in Germany was relatively low.\n",
        "\n",
        "``\"We can do this!\" - Former German Chancellor, Angela Merkel (2015)``\n",
        "\n",
        "Germany has maintained high levels of support for accepting refugees. By granting refugees protection in Germany and having the right to work without restrictions, over half of refugees accepted in 2015 have found a job in 5 years, and public support for immigration remains high.\n",
        "\n",
        "* Malaysia - As of end December 2021, there are 180,440 refugees and asylum-seekers registered with UNHCR in Malaysia. Estimated 337,756 refugees in Malaysia in 2025."
      ],
      "metadata": {
        "id": "vBYvnVn01nYf"
      }
    },
    {
      "cell_type": "markdown",
      "source": [
        "<a name=\"7.2\"></a>\n",
        "## 7.2 Prediction of refugees population growth (Linear Regression)"
      ],
      "metadata": {
        "id": "TCmrJ5Y6Lp1x"
      }
    },
    {
      "cell_type": "code",
      "execution_count": null,
      "metadata": {
        "id": "13TnmShGP0WR"
      },
      "outputs": [],
      "source": [
        "sum_total = df_demo_reduced.groupby([\"Year\"])[[\"Total\"]].sum()/1000000\n",
        "df_demo_total = pd.DataFrame(sum_total).reset_index()\n",
        "sns.set(rc = {'figure.figsize':(10,5)})\n",
        "\n",
        "# set up regression line\n",
        "slope, intercept, r_value, p_value, std_err = linregress(df_demo_total.Year,df_demo_total.Total)\n",
        "line = [slope*xi + intercept for xi in df_demo_total.Year]\n",
        "\n",
        "# plot the regression line and the linear fit\n",
        "plt.plot(df_demo_total.Year, line,'r-', linewidth=3, label='Linear Regression Line')\n",
        "plt.scatter(df_demo_total.Year, df_demo_total.Total, label='Refugees Growth (in total)')\n",
        "plt.legend(loc='best')\n",
        "plt.xlabel('Year')\n",
        "plt.ylabel('Total Refugees (in millions)')\n",
        "plt.title('Regression of refugees growth from 2001 to 2021', fontsize='20')\n",
        "plt.show()\n",
        "\n",
        "print(\"\\n\")\n",
        "# use the linear fit to predict the refugees in 2025, 2030 and 2050\n",
        "# using equation y=mx + c, i.e. refugees=slope*year+intercept\n",
        "print(\"The predicted refugees in 2025 will be {:.2f} millions\".format((slope*2025)+intercept))\n",
        "print(\"The predicted refugees in 2030 will be {:.2f} millions\".format((slope*2030)+intercept))\n",
        "print(\"The predicted refugees in 2050 will be {:.2f} millions\".format((slope*2050)+intercept))\n"
      ]
    },
    {
      "cell_type": "markdown",
      "source": [
        "Evaluation - Linear Regression"
      ],
      "metadata": {
        "id": "k-VGWVCw-XzC"
      }
    },
    {
      "cell_type": "code",
      "source": [
        "# calculate correlation coefficient to see how well is the linear fit\n",
        "print(\"The slope of the regression is {:.2f}\".format(slope))\n",
        "print(\"The intercept of the regression is {:.2f}\".format(intercept))\n",
        "print(\"The correlation coefficient is {:.2f}\".format(r_value))\n",
        "print(\"The R-squared is {:.2f}\".format(r_value**2))\n",
        "print(\"The standard error of the regression is {:.2f}\".format(std_err))\n",
        "\n",
        "# RMSE is a measure of how spread out these residuals are\n",
        "df_demo_total['y_pred'] = 3.64 * df_demo_total['Year'] + -7284.66\n",
        "df_demo_total['rmse'] = (df_demo_total['Total'] - df_demo_total['y_pred']) ** 2\n",
        "rmse = np.sqrt(df_demo_total['rmse'].sum()/len(df_demo_total))\n",
        "print(\"The root mean square error (RMSE) is {:.2f}\".format(rmse))"
      ],
      "metadata": {
        "id": "i5AkQ-3s-Wte"
      },
      "execution_count": null,
      "outputs": []
    },
    {
      "cell_type": "markdown",
      "source": [
        "<a name=\"7.3\"></a>\n",
        "## 7.3 Prediction of refugees population growth (ARIMA Model)"
      ],
      "metadata": {
        "id": "njSUc6U_AVmR"
      }
    },
    {
      "cell_type": "code",
      "source": [
        "arimaData = df_demo_total[['Year', 'Total']]\n",
        "arimaData.set_index('Year', inplace=True)\n",
        "print(arimaData)\n",
        "arimaData.plot(figsize=(8, 4))\n",
        "print(\"From the trendline, it's clearly not stationary\")"
      ],
      "metadata": {
        "id": "2LCWJ5AeAgUj"
      },
      "execution_count": null,
      "outputs": []
    },
    {
      "cell_type": "code",
      "source": [
        "# Transform Non-Stationary to Stationary using Differencing\n",
        "# d=1: y(t) = Y(t) - Y(t-1)\n",
        "\n",
        "fig, ax = plt.subplots(1, 2, figsize=(8, 4))\n",
        "arimaData['1diff'] = arimaData['Total'] - arimaData['Total'].shift(1)\n",
        "ax[0].plot(arimaData['1diff']); ax[0].set_title('1st Differencing')\n",
        "ax[1].set(ylim=(0,1.2))\n",
        "plot_acf(arimaData['1diff'].dropna(), lags=18, ax=ax[1]);\n",
        "plot_pacf(arimaData['1diff'].dropna(), lags=8, ax=ax[1]);\n",
        "ax[1].set_title('Autocorrelation and Partial Autocorrelation')\n",
        "\n",
        "# Since both ACF and PACF Lag value cutt off at Lag-1, we suggest that p = 1, q = 1"
      ],
      "metadata": {
        "id": "Qavi2WrGAqDG"
      },
      "execution_count": null,
      "outputs": []
    },
    {
      "cell_type": "code",
      "source": [
        "result = adfuller(arimaData['1diff'].dropna())\n",
        "labels = ['ADF Test Statistic','p-value','Lags Used','Number of Observations']\n",
        "for value,label in zip(result,labels):\n",
        "  print(label+' : {:.2f}'.format(value))\n",
        "\n",
        "# H0 of the ADF test is that the time series is non-stationary\n",
        "print(\"p-value < 0.05, Reject Null Hypothesis (Means Is Stationary), d = 1\")"
      ],
      "metadata": {
        "id": "OKawhgMIjFh7"
      },
      "execution_count": null,
      "outputs": []
    },
    {
      "cell_type": "code",
      "source": [
        "import statsmodels.api as sm\n",
        "arimaModel=sm.tsa.statespace.SARIMAX(arimaData['Total'],order=(1,1,1))\n",
        "arimaFit = arimaModel.fit()\n",
        "# arimaFit.summary()\n",
        "arimaNew = pd.DataFrame(index=[x for x in range(20,30)], columns=arimaData.columns)\n",
        "arimaPred = pd.concat([arimaData, arimaNew])\n",
        "arimaPred['Prediction'] = arimaFit.predict(start=20, end=30, dynamic=True)\n",
        "arimaPred.rename(index={20: 2021, 21: 2022, 22: 2023, 23: 2024, 24: 2025, 25: 2026, 26: 2027, 27: 2028, 28: 2029, 29: 2030, 30: 2031}, inplace=True)\n",
        "arimaPred[['Total', 'Prediction']].plot(figsize=(8, 4))\n"
      ],
      "metadata": {
        "id": "3QQMCiiwJ44p"
      },
      "execution_count": null,
      "outputs": []
    },
    {
      "cell_type": "markdown",
      "source": [
        "The predicted refugees in 2025 will be 113.23 millions\n",
        "\n",
        "The predicted refugees in 2030 will be 132.39 millions"
      ],
      "metadata": {
        "id": "py8a7pvuoxnA"
      }
    },
    {
      "cell_type": "markdown",
      "source": [
        "Evaluation - ARIMA Model"
      ],
      "metadata": {
        "id": "fPTQgKfgefM8"
      }
    },
    {
      "cell_type": "code",
      "source": [
        "from math import sqrt\n",
        "from sklearn.metrics import mean_squared_error\n",
        "rmse = sqrt(mean_squared_error(arimaPred.Total[0:30], arimaFit.predict()))\n",
        "print(\"The root mean square error (RMSE) is {:.2f}\".format(rmse))\n",
        "\n",
        "# Lower RMSE compared with Linear Regression"
      ],
      "metadata": {
        "id": "SR5K2UzwdDhn"
      },
      "execution_count": null,
      "outputs": []
    },
    {
      "cell_type": "markdown",
      "source": [
        "<br/><br/>\n",
        "\n",
        "---\n",
        "\n",
        "<br/><br/>\n",
        "\n",
        "<a name=\"conclusion\"></a>\n",
        "## **8.0 Conclusion**\n",
        "<br>\n",
        "The team presents a research done on discovering the patterns and trends of global refugee movements and to potentially increase public’s awareness on this matter. As well as to understand and analyze the impact of demographic factors such as age band and gender. The multifaceted nature of civil wars and the lack of systematic reports make it challenging to predict global refugee movements. However, with the availability of UNHCR data, it is possible to construct and analyze, patterns and trends of global refugee movements. <br>\n",
        "\n",
        "1.\tWhat are the impact of the demographic background (age band and gender) on the number of refugees worldwide?<br>\n",
        "We can observe the result in 5.7 and 5.8 that the gender female of age 5 till 11 have shown a rapid growth throughout the years. Moreover, runner-up is also dominated by females from the age range of 18 till 59. When females have financial, cultural, and social expectations that are not met in their home country, gender discrimination can be a major factor driving migration. Women's migration results differ depending on whether their journey is voluntarily or coerced, and whether their presence in the receiving nation is legal or not, just like any other migrant. However, when women work as migrant workers or engage in the labour market of the receiving culture, they develop independence, resulting in a shift in gender dynamics within their families. Gains of this sort at the household level, on the other hand, may or may not extend to other aspects of a woman's life, such as her place of employment or her ethnic group as a whole. Women who are migrants have a big advantage. They contribute to the economic growth of their destination nations via their knowledge expertise and abilities, and they contribute to the economic development of their home countries through earnings and enhanced experience when they return. <br>\n",
        "\n",
        "2.  Is there a significant different in mean between recognized decisions and rejected decisions?\n",
        "Based on 6.1, there is a significant different in mean between recognized decisions and rejected decisions. With a t-statictical value of -13.1469 and a p-value of 2.3538. <br>\n",
        "\n",
        "\n",
        "3.\tIs there a significant different in mean between Male and Female in number of refugees? <br>\n",
        "Based on 6.2, there is a significant different in mean between Male and Female in  number of refugees. With a t-statictical value of -1.9907 and a p-value of 0.0466. <br>\n",
        "\n",
        "4.\tWhat are the predicted total number of refugees in next 5 years, 10 years, 30 years? <br>\n",
        "The team have implemented two different types of models; the linear regression model and ARIMA model were used to predict refugees populations growth. From the result, ARIMA model is the best for prediction of refugees population growth as the number is higher by 18.52 millions and the root mean square error is lower than linear regression by 4.66.\n",
        "The predicted refugees in 2025 will be 113.23 millions and in 2030, there will be 132.39 millions refugee (which is 66% increment from now!).\n",
        "\n",
        "\n",
        "\n"
      ],
      "metadata": {
        "id": "3RmUQz9EGXj2"
      }
    },
    {
      "cell_type": "markdown",
      "source": [
        "<br/><br/>\n",
        "\n",
        "---\n",
        "\n",
        "<br/><br/>\n",
        "\n",
        "<a name=\"Futurework\"></a>\n",
        "## **9.0 Future Work**\n",
        "\n",
        "\n",
        "\n",
        "<br>\n",
        "\n",
        "\n",
        "\n"
      ],
      "metadata": {
        "id": "BkdQtH39Xz96"
      }
    },
    {
      "cell_type": "markdown",
      "metadata": {
        "id": "9ew0lVWK2kGz"
      },
      "source": [
        "<br/><br/>\n",
        "\n",
        "---\n",
        "\n",
        "<br/><br/>\n",
        "\n",
        "<a name=\"reference\"></a>\n",
        "## **References**\n",
        "\n",
        "* Ahearn, F. L. (2000). Psychosocial Wellness of Refugees: Issues in Qualitative and Quantitative Research. Berghahn Books.\n",
        "\n",
        "* Bansak, K., Ferwerda, J., Hainmueller, J., Dillon, A., Hangartner, D., Lawrence, D., & Weinstein, J. (2018). Improving refugee integration through data-driven algorithmic assignment. Science, 359(6373), 325-329. https://doi.org/10.1126/science.aao4408\n",
        "\n",
        "* Byrow, Y., Pajak, R., Specker, P., &amp; Nickerson, A. (2020). Perceptions of mental health and perceived barriers to mental health help-seeking amongst refugees: A systematic review. Clinical Psychology Review, 75, 101812. https://doi.org/10.1016/j.cpr.2019.101812\n",
        "\n",
        "* Frederick L. Ahearn, J. (2000). The Psychosocial Wellness of Refugees: Issues in Qualitative and Quantitative Research. America: Berghahn Books.\n",
        "\n",
        "* Kluge, H. H. P., Jakab, Z., Bartovic, J., d'Anna, V., & Severoni, S. (2020). Refugee and migrant health in the COVID-19 response. The Lancet, 395(10232), 1237-1239. https://doi.org/10.1016/S0140-6736(20)30791-1\n",
        "\n",
        "* Spijkerboer, T. (2016, December 31). Gender and refugee status: Thomas Spijkerboer: Taylor &amp; Francis Grou. Taylor &amp; Francis. https://www.taylorfrancis.com/books/mono/10.4324/9781315254692/gender-refugee-status-thomas-spijkerboer\n",
        "\n",
        "* McMaster, D. (2001). Asylum Seekers: Australia's Response to Refugees. Australia: Melbourne University Publishing.\n",
        "\n",
        "* Taylor, J. E., Filipski, M. J., Alloush, M., Gupta, A., Valdes, R. I. R., & Gonzalez-Estrada, E. (2016). Economic impact of refugees. Proceedings of the National Academy of Sciences, 113(27), 7449-7453. https://doi.org/10.1073/pnas.1604566113\n",
        "\n",
        "* UNHCR. (2010, June 15). UNHCR Malaysia. Retrieved from 2009 Global Trends: Refugees, Asylum-seekers, Returnees, Internally Displaced and Stateless Persons: https://www.unhcr.org/4c11f0be9.html\n",
        "\n",
        "* United Nations High Commissioner for Refugees. (2021). Refugee statistics. UNHCR. https://www.unhcr.org/refugee-statistics/\n",
        "\n",
        "* What is a refugee? Important facts and figures about refugees. Save the Children. https://www.savethechildren.org/us/what-we-do/emergency-response/refugee-children-crisis/what-is-refugee\n",
        "\n",
        "* United Nations High Commissioner for Refugees. (2021). What is a refugee. UNHCR. https://www.unhcr.org/en-my/what-is-a-refugee.html\n",
        "\n",
        "* United Nations High Commissioner for Refugees. (2021). Coronavirus Outbreak. UNHCR. https://www.unhcr.org/en-my/coronavirus-covid-19.html\n",
        "\n",
        "* United Nations High Commissioner for Refugees. (2021). Pandemic threatens progress on refugee admissions through family, work, study permits. UNHCR. https://www.unhcr.org/en-my/news/press/2021/5/60915f074/pandemic-threatens-progress-refugee-admissions-family-work-study-permits.html\n",
        "\n",
        "* Diego A. G., & Carlota S. G. (2018). The UNHCR Demographic Projection Tool:\n",
        "estimating the future size and composition of forcibly displaced populations. https://www.unhcr.org/en-my/statistics/unhcrstats/5ae9ee747/unhcr-demographic-projection-tool-estimating-future-size-composition-forcibly.html\n",
        "\n",
        "* Shapiro, J. (2020, January 22). Predicting demographic trends for global UNHCR persons of concern. Medium. https://towardsdatascience.com/predicting-demographic-trends-for-global-unhcr-persons-of-concern-86dc4b8b920d\n",
        "\n",
        "<br /><br />\n",
        "\n",
        "---\n",
        "\n",
        "<br /><br />"
      ]
    },
    {
      "cell_type": "markdown",
      "source": [
        "# New section"
      ],
      "metadata": {
        "id": "UBiyhgaaBj9J"
      }
    },
    {
      "cell_type": "markdown",
      "source": [
        "# 新段落"
      ],
      "metadata": {
        "id": "vlYXdmTbCR2R"
      }
    },
    {
      "cell_type": "markdown",
      "source": [
        "# 新段落"
      ],
      "metadata": {
        "id": "lGJLx2PxCSvQ"
      }
    }
  ],
  "metadata": {
    "colab": {
      "provenance": [],
      "include_colab_link": true
    },
    "kernelspec": {
      "display_name": "Python 3",
      "name": "python3"
    },
    "language_info": {
      "name": "python"
    }
  },
  "nbformat": 4,
  "nbformat_minor": 0
}